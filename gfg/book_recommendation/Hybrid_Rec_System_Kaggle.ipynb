{
 "cells": [
  {
   "cell_type": "code",
   "execution_count": 1,
   "metadata": {
    "execution": {
     "iopub.execute_input": "2024-05-21T05:37:57.101625Z",
     "iopub.status.busy": "2024-05-21T05:37:57.101284Z",
     "iopub.status.idle": "2024-05-21T05:37:58.057552Z",
     "shell.execute_reply": "2024-05-21T05:37:58.056542Z",
     "shell.execute_reply.started": "2024-05-21T05:37:57.101596Z"
    },
    "trusted": true
   },
   "outputs": [],
   "source": [
    "import pandas as pd\n",
    "import numpy as np"
   ]
  },
  {
   "cell_type": "code",
   "execution_count": 3,
   "metadata": {
    "execution": {
     "iopub.execute_input": "2024-05-21T05:38:46.833590Z",
     "iopub.status.busy": "2024-05-21T05:38:46.833176Z",
     "iopub.status.idle": "2024-05-21T05:38:49.056920Z",
     "shell.execute_reply": "2024-05-21T05:38:49.056013Z",
     "shell.execute_reply.started": "2024-05-21T05:38:46.833560Z"
    },
    "trusted": true
   },
   "outputs": [
    {
     "ename": "FileNotFoundError",
     "evalue": "[Errno 2] No such file or directory: 'C:/Users/hp/Downloads/books.csv'",
     "output_type": "error",
     "traceback": [
      "\u001b[1;31m---------------------------------------------------------------------------\u001b[0m",
      "\u001b[1;31mFileNotFoundError\u001b[0m                         Traceback (most recent call last)",
      "Cell \u001b[1;32mIn[3], line 1\u001b[0m\n\u001b[1;32m----> 1\u001b[0m books \u001b[38;5;241m=\u001b[39m \u001b[43mpd\u001b[49m\u001b[38;5;241;43m.\u001b[39;49m\u001b[43mread_csv\u001b[49m\u001b[43m(\u001b[49m\u001b[38;5;124;43mr\u001b[39;49m\u001b[38;5;124;43m\"\u001b[39;49m\u001b[38;5;124;43mC:/Users/hp/Downloads/books.csv\u001b[39;49m\u001b[38;5;124;43m\"\u001b[39;49m\u001b[43m)\u001b[49m\n",
      "File \u001b[1;32mc:\\Users\\hp\\AppData\\Local\\Programs\\Python\\Python312\\Lib\\site-packages\\pandas\\io\\parsers\\readers.py:1026\u001b[0m, in \u001b[0;36mread_csv\u001b[1;34m(filepath_or_buffer, sep, delimiter, header, names, index_col, usecols, dtype, engine, converters, true_values, false_values, skipinitialspace, skiprows, skipfooter, nrows, na_values, keep_default_na, na_filter, verbose, skip_blank_lines, parse_dates, infer_datetime_format, keep_date_col, date_parser, date_format, dayfirst, cache_dates, iterator, chunksize, compression, thousands, decimal, lineterminator, quotechar, quoting, doublequote, escapechar, comment, encoding, encoding_errors, dialect, on_bad_lines, delim_whitespace, low_memory, memory_map, float_precision, storage_options, dtype_backend)\u001b[0m\n\u001b[0;32m   1013\u001b[0m kwds_defaults \u001b[38;5;241m=\u001b[39m _refine_defaults_read(\n\u001b[0;32m   1014\u001b[0m     dialect,\n\u001b[0;32m   1015\u001b[0m     delimiter,\n\u001b[1;32m   (...)\u001b[0m\n\u001b[0;32m   1022\u001b[0m     dtype_backend\u001b[38;5;241m=\u001b[39mdtype_backend,\n\u001b[0;32m   1023\u001b[0m )\n\u001b[0;32m   1024\u001b[0m kwds\u001b[38;5;241m.\u001b[39mupdate(kwds_defaults)\n\u001b[1;32m-> 1026\u001b[0m \u001b[38;5;28;01mreturn\u001b[39;00m \u001b[43m_read\u001b[49m\u001b[43m(\u001b[49m\u001b[43mfilepath_or_buffer\u001b[49m\u001b[43m,\u001b[49m\u001b[43m \u001b[49m\u001b[43mkwds\u001b[49m\u001b[43m)\u001b[49m\n",
      "File \u001b[1;32mc:\\Users\\hp\\AppData\\Local\\Programs\\Python\\Python312\\Lib\\site-packages\\pandas\\io\\parsers\\readers.py:620\u001b[0m, in \u001b[0;36m_read\u001b[1;34m(filepath_or_buffer, kwds)\u001b[0m\n\u001b[0;32m    617\u001b[0m _validate_names(kwds\u001b[38;5;241m.\u001b[39mget(\u001b[38;5;124m\"\u001b[39m\u001b[38;5;124mnames\u001b[39m\u001b[38;5;124m\"\u001b[39m, \u001b[38;5;28;01mNone\u001b[39;00m))\n\u001b[0;32m    619\u001b[0m \u001b[38;5;66;03m# Create the parser.\u001b[39;00m\n\u001b[1;32m--> 620\u001b[0m parser \u001b[38;5;241m=\u001b[39m \u001b[43mTextFileReader\u001b[49m\u001b[43m(\u001b[49m\u001b[43mfilepath_or_buffer\u001b[49m\u001b[43m,\u001b[49m\u001b[43m \u001b[49m\u001b[38;5;241;43m*\u001b[39;49m\u001b[38;5;241;43m*\u001b[39;49m\u001b[43mkwds\u001b[49m\u001b[43m)\u001b[49m\n\u001b[0;32m    622\u001b[0m \u001b[38;5;28;01mif\u001b[39;00m chunksize \u001b[38;5;129;01mor\u001b[39;00m iterator:\n\u001b[0;32m    623\u001b[0m     \u001b[38;5;28;01mreturn\u001b[39;00m parser\n",
      "File \u001b[1;32mc:\\Users\\hp\\AppData\\Local\\Programs\\Python\\Python312\\Lib\\site-packages\\pandas\\io\\parsers\\readers.py:1620\u001b[0m, in \u001b[0;36mTextFileReader.__init__\u001b[1;34m(self, f, engine, **kwds)\u001b[0m\n\u001b[0;32m   1617\u001b[0m     \u001b[38;5;28mself\u001b[39m\u001b[38;5;241m.\u001b[39moptions[\u001b[38;5;124m\"\u001b[39m\u001b[38;5;124mhas_index_names\u001b[39m\u001b[38;5;124m\"\u001b[39m] \u001b[38;5;241m=\u001b[39m kwds[\u001b[38;5;124m\"\u001b[39m\u001b[38;5;124mhas_index_names\u001b[39m\u001b[38;5;124m\"\u001b[39m]\n\u001b[0;32m   1619\u001b[0m \u001b[38;5;28mself\u001b[39m\u001b[38;5;241m.\u001b[39mhandles: IOHandles \u001b[38;5;241m|\u001b[39m \u001b[38;5;28;01mNone\u001b[39;00m \u001b[38;5;241m=\u001b[39m \u001b[38;5;28;01mNone\u001b[39;00m\n\u001b[1;32m-> 1620\u001b[0m \u001b[38;5;28mself\u001b[39m\u001b[38;5;241m.\u001b[39m_engine \u001b[38;5;241m=\u001b[39m \u001b[38;5;28;43mself\u001b[39;49m\u001b[38;5;241;43m.\u001b[39;49m\u001b[43m_make_engine\u001b[49m\u001b[43m(\u001b[49m\u001b[43mf\u001b[49m\u001b[43m,\u001b[49m\u001b[43m \u001b[49m\u001b[38;5;28;43mself\u001b[39;49m\u001b[38;5;241;43m.\u001b[39;49m\u001b[43mengine\u001b[49m\u001b[43m)\u001b[49m\n",
      "File \u001b[1;32mc:\\Users\\hp\\AppData\\Local\\Programs\\Python\\Python312\\Lib\\site-packages\\pandas\\io\\parsers\\readers.py:1880\u001b[0m, in \u001b[0;36mTextFileReader._make_engine\u001b[1;34m(self, f, engine)\u001b[0m\n\u001b[0;32m   1878\u001b[0m     \u001b[38;5;28;01mif\u001b[39;00m \u001b[38;5;124m\"\u001b[39m\u001b[38;5;124mb\u001b[39m\u001b[38;5;124m\"\u001b[39m \u001b[38;5;129;01mnot\u001b[39;00m \u001b[38;5;129;01min\u001b[39;00m mode:\n\u001b[0;32m   1879\u001b[0m         mode \u001b[38;5;241m+\u001b[39m\u001b[38;5;241m=\u001b[39m \u001b[38;5;124m\"\u001b[39m\u001b[38;5;124mb\u001b[39m\u001b[38;5;124m\"\u001b[39m\n\u001b[1;32m-> 1880\u001b[0m \u001b[38;5;28mself\u001b[39m\u001b[38;5;241m.\u001b[39mhandles \u001b[38;5;241m=\u001b[39m \u001b[43mget_handle\u001b[49m\u001b[43m(\u001b[49m\n\u001b[0;32m   1881\u001b[0m \u001b[43m    \u001b[49m\u001b[43mf\u001b[49m\u001b[43m,\u001b[49m\n\u001b[0;32m   1882\u001b[0m \u001b[43m    \u001b[49m\u001b[43mmode\u001b[49m\u001b[43m,\u001b[49m\n\u001b[0;32m   1883\u001b[0m \u001b[43m    \u001b[49m\u001b[43mencoding\u001b[49m\u001b[38;5;241;43m=\u001b[39;49m\u001b[38;5;28;43mself\u001b[39;49m\u001b[38;5;241;43m.\u001b[39;49m\u001b[43moptions\u001b[49m\u001b[38;5;241;43m.\u001b[39;49m\u001b[43mget\u001b[49m\u001b[43m(\u001b[49m\u001b[38;5;124;43m\"\u001b[39;49m\u001b[38;5;124;43mencoding\u001b[39;49m\u001b[38;5;124;43m\"\u001b[39;49m\u001b[43m,\u001b[49m\u001b[43m \u001b[49m\u001b[38;5;28;43;01mNone\u001b[39;49;00m\u001b[43m)\u001b[49m\u001b[43m,\u001b[49m\n\u001b[0;32m   1884\u001b[0m \u001b[43m    \u001b[49m\u001b[43mcompression\u001b[49m\u001b[38;5;241;43m=\u001b[39;49m\u001b[38;5;28;43mself\u001b[39;49m\u001b[38;5;241;43m.\u001b[39;49m\u001b[43moptions\u001b[49m\u001b[38;5;241;43m.\u001b[39;49m\u001b[43mget\u001b[49m\u001b[43m(\u001b[49m\u001b[38;5;124;43m\"\u001b[39;49m\u001b[38;5;124;43mcompression\u001b[39;49m\u001b[38;5;124;43m\"\u001b[39;49m\u001b[43m,\u001b[49m\u001b[43m \u001b[49m\u001b[38;5;28;43;01mNone\u001b[39;49;00m\u001b[43m)\u001b[49m\u001b[43m,\u001b[49m\n\u001b[0;32m   1885\u001b[0m \u001b[43m    \u001b[49m\u001b[43mmemory_map\u001b[49m\u001b[38;5;241;43m=\u001b[39;49m\u001b[38;5;28;43mself\u001b[39;49m\u001b[38;5;241;43m.\u001b[39;49m\u001b[43moptions\u001b[49m\u001b[38;5;241;43m.\u001b[39;49m\u001b[43mget\u001b[49m\u001b[43m(\u001b[49m\u001b[38;5;124;43m\"\u001b[39;49m\u001b[38;5;124;43mmemory_map\u001b[39;49m\u001b[38;5;124;43m\"\u001b[39;49m\u001b[43m,\u001b[49m\u001b[43m \u001b[49m\u001b[38;5;28;43;01mFalse\u001b[39;49;00m\u001b[43m)\u001b[49m\u001b[43m,\u001b[49m\n\u001b[0;32m   1886\u001b[0m \u001b[43m    \u001b[49m\u001b[43mis_text\u001b[49m\u001b[38;5;241;43m=\u001b[39;49m\u001b[43mis_text\u001b[49m\u001b[43m,\u001b[49m\n\u001b[0;32m   1887\u001b[0m \u001b[43m    \u001b[49m\u001b[43merrors\u001b[49m\u001b[38;5;241;43m=\u001b[39;49m\u001b[38;5;28;43mself\u001b[39;49m\u001b[38;5;241;43m.\u001b[39;49m\u001b[43moptions\u001b[49m\u001b[38;5;241;43m.\u001b[39;49m\u001b[43mget\u001b[49m\u001b[43m(\u001b[49m\u001b[38;5;124;43m\"\u001b[39;49m\u001b[38;5;124;43mencoding_errors\u001b[39;49m\u001b[38;5;124;43m\"\u001b[39;49m\u001b[43m,\u001b[49m\u001b[43m \u001b[49m\u001b[38;5;124;43m\"\u001b[39;49m\u001b[38;5;124;43mstrict\u001b[39;49m\u001b[38;5;124;43m\"\u001b[39;49m\u001b[43m)\u001b[49m\u001b[43m,\u001b[49m\n\u001b[0;32m   1888\u001b[0m \u001b[43m    \u001b[49m\u001b[43mstorage_options\u001b[49m\u001b[38;5;241;43m=\u001b[39;49m\u001b[38;5;28;43mself\u001b[39;49m\u001b[38;5;241;43m.\u001b[39;49m\u001b[43moptions\u001b[49m\u001b[38;5;241;43m.\u001b[39;49m\u001b[43mget\u001b[49m\u001b[43m(\u001b[49m\u001b[38;5;124;43m\"\u001b[39;49m\u001b[38;5;124;43mstorage_options\u001b[39;49m\u001b[38;5;124;43m\"\u001b[39;49m\u001b[43m,\u001b[49m\u001b[43m \u001b[49m\u001b[38;5;28;43;01mNone\u001b[39;49;00m\u001b[43m)\u001b[49m\u001b[43m,\u001b[49m\n\u001b[0;32m   1889\u001b[0m \u001b[43m\u001b[49m\u001b[43m)\u001b[49m\n\u001b[0;32m   1890\u001b[0m \u001b[38;5;28;01massert\u001b[39;00m \u001b[38;5;28mself\u001b[39m\u001b[38;5;241m.\u001b[39mhandles \u001b[38;5;129;01mis\u001b[39;00m \u001b[38;5;129;01mnot\u001b[39;00m \u001b[38;5;28;01mNone\u001b[39;00m\n\u001b[0;32m   1891\u001b[0m f \u001b[38;5;241m=\u001b[39m \u001b[38;5;28mself\u001b[39m\u001b[38;5;241m.\u001b[39mhandles\u001b[38;5;241m.\u001b[39mhandle\n",
      "File \u001b[1;32mc:\\Users\\hp\\AppData\\Local\\Programs\\Python\\Python312\\Lib\\site-packages\\pandas\\io\\common.py:873\u001b[0m, in \u001b[0;36mget_handle\u001b[1;34m(path_or_buf, mode, encoding, compression, memory_map, is_text, errors, storage_options)\u001b[0m\n\u001b[0;32m    868\u001b[0m \u001b[38;5;28;01melif\u001b[39;00m \u001b[38;5;28misinstance\u001b[39m(handle, \u001b[38;5;28mstr\u001b[39m):\n\u001b[0;32m    869\u001b[0m     \u001b[38;5;66;03m# Check whether the filename is to be opened in binary mode.\u001b[39;00m\n\u001b[0;32m    870\u001b[0m     \u001b[38;5;66;03m# Binary mode does not support 'encoding' and 'newline'.\u001b[39;00m\n\u001b[0;32m    871\u001b[0m     \u001b[38;5;28;01mif\u001b[39;00m ioargs\u001b[38;5;241m.\u001b[39mencoding \u001b[38;5;129;01mand\u001b[39;00m \u001b[38;5;124m\"\u001b[39m\u001b[38;5;124mb\u001b[39m\u001b[38;5;124m\"\u001b[39m \u001b[38;5;129;01mnot\u001b[39;00m \u001b[38;5;129;01min\u001b[39;00m ioargs\u001b[38;5;241m.\u001b[39mmode:\n\u001b[0;32m    872\u001b[0m         \u001b[38;5;66;03m# Encoding\u001b[39;00m\n\u001b[1;32m--> 873\u001b[0m         handle \u001b[38;5;241m=\u001b[39m \u001b[38;5;28;43mopen\u001b[39;49m\u001b[43m(\u001b[49m\n\u001b[0;32m    874\u001b[0m \u001b[43m            \u001b[49m\u001b[43mhandle\u001b[49m\u001b[43m,\u001b[49m\n\u001b[0;32m    875\u001b[0m \u001b[43m            \u001b[49m\u001b[43mioargs\u001b[49m\u001b[38;5;241;43m.\u001b[39;49m\u001b[43mmode\u001b[49m\u001b[43m,\u001b[49m\n\u001b[0;32m    876\u001b[0m \u001b[43m            \u001b[49m\u001b[43mencoding\u001b[49m\u001b[38;5;241;43m=\u001b[39;49m\u001b[43mioargs\u001b[49m\u001b[38;5;241;43m.\u001b[39;49m\u001b[43mencoding\u001b[49m\u001b[43m,\u001b[49m\n\u001b[0;32m    877\u001b[0m \u001b[43m            \u001b[49m\u001b[43merrors\u001b[49m\u001b[38;5;241;43m=\u001b[39;49m\u001b[43merrors\u001b[49m\u001b[43m,\u001b[49m\n\u001b[0;32m    878\u001b[0m \u001b[43m            \u001b[49m\u001b[43mnewline\u001b[49m\u001b[38;5;241;43m=\u001b[39;49m\u001b[38;5;124;43m\"\u001b[39;49m\u001b[38;5;124;43m\"\u001b[39;49m\u001b[43m,\u001b[49m\n\u001b[0;32m    879\u001b[0m \u001b[43m        \u001b[49m\u001b[43m)\u001b[49m\n\u001b[0;32m    880\u001b[0m     \u001b[38;5;28;01melse\u001b[39;00m:\n\u001b[0;32m    881\u001b[0m         \u001b[38;5;66;03m# Binary mode\u001b[39;00m\n\u001b[0;32m    882\u001b[0m         handle \u001b[38;5;241m=\u001b[39m \u001b[38;5;28mopen\u001b[39m(handle, ioargs\u001b[38;5;241m.\u001b[39mmode)\n",
      "\u001b[1;31mFileNotFoundError\u001b[0m: [Errno 2] No such file or directory: 'C:/Users/hp/Downloads/books.csv'"
     ]
    }
   ],
   "source": [
    "books = pd.read_csv(r\"C:/Users/hp/Downloads/books.csv\")"
   ]
  },
  {
   "cell_type": "code",
   "execution_count": null,
   "metadata": {
    "execution": {
     "iopub.execute_input": "2024-05-21T05:38:51.118120Z",
     "iopub.status.busy": "2024-05-21T05:38:51.117756Z",
     "iopub.status.idle": "2024-05-21T05:38:51.155615Z",
     "shell.execute_reply": "2024-05-21T05:38:51.154740Z",
     "shell.execute_reply.started": "2024-05-21T05:38:51.118092Z"
    },
    "trusted": true
   },
   "outputs": [
    {
     "ename": "NameError",
     "evalue": "name 'books' is not defined",
     "output_type": "error",
     "traceback": [
      "\u001b[1;31m---------------------------------------------------------------------------\u001b[0m",
      "\u001b[1;31mNameError\u001b[0m                                 Traceback (most recent call last)",
      "Cell \u001b[1;32mIn[9], line 1\u001b[0m\n\u001b[1;32m----> 1\u001b[0m \u001b[43mbooks\u001b[49m\u001b[38;5;241m.\u001b[39mhead(\u001b[38;5;241m2\u001b[39m) \n",
      "\u001b[1;31mNameError\u001b[0m: name 'books' is not defined"
     ]
    }
   ],
   "source": [
    "books.head(2) "
   ]
  },
  {
   "cell_type": "code",
   "execution_count": null,
   "metadata": {
    "execution": {
     "iopub.execute_input": "2024-05-21T05:38:55.094006Z",
     "iopub.status.busy": "2024-05-21T05:38:55.093585Z",
     "iopub.status.idle": "2024-05-21T05:38:55.197234Z",
     "shell.execute_reply": "2024-05-21T05:38:55.196330Z",
     "shell.execute_reply.started": "2024-05-21T05:38:55.093976Z"
    },
    "trusted": true
   },
   "outputs": [
    {
     "ename": "NameError",
     "evalue": "name 'books' is not defined",
     "output_type": "error",
     "traceback": [
      "\u001b[1;31m---------------------------------------------------------------------------\u001b[0m",
      "\u001b[1;31mNameError\u001b[0m                                 Traceback (most recent call last)",
      "Cell \u001b[1;32mIn[10], line 1\u001b[0m\n\u001b[1;32m----> 1\u001b[0m \u001b[43mbooks\u001b[49m\u001b[38;5;241m.\u001b[39misnull()\u001b[38;5;241m.\u001b[39msum()\n",
      "\u001b[1;31mNameError\u001b[0m: name 'books' is not defined"
     ]
    }
   ],
   "source": [
    "books.isnull().sum()"
   ]
  },
  {
   "cell_type": "code",
   "execution_count": null,
   "metadata": {
    "execution": {
     "iopub.execute_input": "2024-05-21T05:38:58.905505Z",
     "iopub.status.busy": "2024-05-21T05:38:58.904645Z",
     "iopub.status.idle": "2024-05-21T05:38:58.912514Z",
     "shell.execute_reply": "2024-05-21T05:38:58.911583Z",
     "shell.execute_reply.started": "2024-05-21T05:38:58.905458Z"
    },
    "trusted": true
   },
   "outputs": [
    {
     "ename": "NameError",
     "evalue": "name 'books' is not defined",
     "output_type": "error",
     "traceback": [
      "\u001b[1;31m---------------------------------------------------------------------------\u001b[0m",
      "\u001b[1;31mNameError\u001b[0m                                 Traceback (most recent call last)",
      "Cell \u001b[1;32mIn[11], line 1\u001b[0m\n\u001b[1;32m----> 1\u001b[0m \u001b[43mbooks\u001b[49m\u001b[38;5;241m.\u001b[39mcolumns\n",
      "\u001b[1;31mNameError\u001b[0m: name 'books' is not defined"
     ]
    }
   ],
   "source": [
    "books.columns"
   ]
  },
  {
   "cell_type": "code",
   "execution_count": null,
   "metadata": {
    "execution": {
     "iopub.execute_input": "2024-05-21T05:39:02.294462Z",
     "iopub.status.busy": "2024-05-21T05:39:02.294119Z",
     "iopub.status.idle": "2024-05-21T05:39:02.307399Z",
     "shell.execute_reply": "2024-05-21T05:39:02.306301Z",
     "shell.execute_reply.started": "2024-05-21T05:39:02.294435Z"
    },
    "trusted": true
   },
   "outputs": [
    {
     "ename": "NameError",
     "evalue": "name 'books' is not defined",
     "output_type": "error",
     "traceback": [
      "\u001b[1;31m---------------------------------------------------------------------------\u001b[0m",
      "\u001b[1;31mNameError\u001b[0m                                 Traceback (most recent call last)",
      "Cell \u001b[1;32mIn[12], line 1\u001b[0m\n\u001b[1;32m----> 1\u001b[0m updated_books \u001b[38;5;241m=\u001b[39m \u001b[43mbooks\u001b[49m[[\u001b[38;5;124m'\u001b[39m\u001b[38;5;124misbn\u001b[39m\u001b[38;5;124m'\u001b[39m, \u001b[38;5;124m'\u001b[39m\u001b[38;5;124mtitle\u001b[39m\u001b[38;5;124m'\u001b[39m, \u001b[38;5;124m'\u001b[39m\u001b[38;5;124mauthor\u001b[39m\u001b[38;5;124m'\u001b[39m, \u001b[38;5;124m'\u001b[39m\u001b[38;5;124mgenres\u001b[39m\u001b[38;5;124m'\u001b[39m, \u001b[38;5;124m'\u001b[39m\u001b[38;5;124mlanguage\u001b[39m\u001b[38;5;124m'\u001b[39m, \u001b[38;5;124m'\u001b[39m\u001b[38;5;124mcharacters\u001b[39m\u001b[38;5;124m'\u001b[39m, \u001b[38;5;124m'\u001b[39m\u001b[38;5;124mdescription\u001b[39m\u001b[38;5;124m'\u001b[39m, \u001b[38;5;124m'\u001b[39m\u001b[38;5;124mawards\u001b[39m\u001b[38;5;124m'\u001b[39m,\u001b[38;5;124m'\u001b[39m\u001b[38;5;124mcoverImg\u001b[39m\u001b[38;5;124m'\u001b[39m,\u001b[38;5;124m'\u001b[39m\u001b[38;5;124msetting\u001b[39m\u001b[38;5;124m'\u001b[39m, \u001b[38;5;124m'\u001b[39m\u001b[38;5;124mrating\u001b[39m\u001b[38;5;124m'\u001b[39m, \u001b[38;5;124m'\u001b[39m\u001b[38;5;124mnumRatings\u001b[39m\u001b[38;5;124m'\u001b[39m]]\n",
      "\u001b[1;31mNameError\u001b[0m: name 'books' is not defined"
     ]
    }
   ],
   "source": [
    "updated_books = books[['isbn', 'title', 'author', 'genres', 'language', 'characters', 'description', 'awards','coverImg','setting', 'rating', 'numRatings']]"
   ]
  },
  {
   "cell_type": "code",
   "execution_count": null,
   "metadata": {
    "execution": {
     "iopub.execute_input": "2024-05-21T05:39:05.846595Z",
     "iopub.status.busy": "2024-05-21T05:39:05.845848Z",
     "iopub.status.idle": "2024-05-21T05:39:05.865527Z",
     "shell.execute_reply": "2024-05-21T05:39:05.864337Z",
     "shell.execute_reply.started": "2024-05-21T05:39:05.846559Z"
    },
    "trusted": true
   },
   "outputs": [
    {
     "ename": "NameError",
     "evalue": "name 'updated_books' is not defined",
     "output_type": "error",
     "traceback": [
      "\u001b[1;31m---------------------------------------------------------------------------\u001b[0m",
      "\u001b[1;31mNameError\u001b[0m                                 Traceback (most recent call last)",
      "Cell \u001b[1;32mIn[13], line 1\u001b[0m\n\u001b[1;32m----> 1\u001b[0m \u001b[43mupdated_books\u001b[49m\u001b[38;5;241m.\u001b[39mhead(\u001b[38;5;241m2\u001b[39m)\n",
      "\u001b[1;31mNameError\u001b[0m: name 'updated_books' is not defined"
     ]
    }
   ],
   "source": [
    "updated_books.head(2)"
   ]
  },
  {
   "cell_type": "code",
   "execution_count": null,
   "metadata": {
    "execution": {
     "iopub.execute_input": "2024-05-21T05:39:08.976961Z",
     "iopub.status.busy": "2024-05-21T05:39:08.976594Z",
     "iopub.status.idle": "2024-05-21T05:39:09.039881Z",
     "shell.execute_reply": "2024-05-21T05:39:09.038747Z",
     "shell.execute_reply.started": "2024-05-21T05:39:08.976932Z"
    },
    "trusted": true
   },
   "outputs": [
    {
     "ename": "NameError",
     "evalue": "name 'updated_books' is not defined",
     "output_type": "error",
     "traceback": [
      "\u001b[1;31m---------------------------------------------------------------------------\u001b[0m",
      "\u001b[1;31mNameError\u001b[0m                                 Traceback (most recent call last)",
      "Cell \u001b[1;32mIn[14], line 1\u001b[0m\n\u001b[1;32m----> 1\u001b[0m \u001b[43mupdated_books\u001b[49m\u001b[38;5;241m.\u001b[39misnull()\u001b[38;5;241m.\u001b[39msum()\n",
      "\u001b[1;31mNameError\u001b[0m: name 'updated_books' is not defined"
     ]
    }
   ],
   "source": [
    "updated_books.isnull().sum()"
   ]
  },
  {
   "cell_type": "code",
   "execution_count": null,
   "metadata": {
    "execution": {
     "iopub.execute_input": "2024-05-21T05:39:13.061195Z",
     "iopub.status.busy": "2024-05-21T05:39:13.060255Z",
     "iopub.status.idle": "2024-05-21T05:39:13.066917Z",
     "shell.execute_reply": "2024-05-21T05:39:13.065773Z",
     "shell.execute_reply.started": "2024-05-21T05:39:13.061160Z"
    },
    "trusted": true
   },
   "outputs": [
    {
     "ename": "NameError",
     "evalue": "name 'updated_books' is not defined",
     "output_type": "error",
     "traceback": [
      "\u001b[1;31m---------------------------------------------------------------------------\u001b[0m",
      "\u001b[1;31mNameError\u001b[0m                                 Traceback (most recent call last)",
      "Cell \u001b[1;32mIn[3], line 1\u001b[0m\n\u001b[1;32m----> 1\u001b[0m \u001b[43mupdated_books\u001b[49m\u001b[38;5;241m.\u001b[39mshape\n",
      "\u001b[1;31mNameError\u001b[0m: name 'updated_books' is not defined"
     ]
    }
   ],
   "source": [
    "updated_books.shape"
   ]
  },
  {
   "cell_type": "code",
   "execution_count": 4,
   "metadata": {
    "execution": {
     "iopub.execute_input": "2024-05-21T05:39:15.148036Z",
     "iopub.status.busy": "2024-05-21T05:39:15.147567Z",
     "iopub.status.idle": "2024-05-21T05:39:15.216319Z",
     "shell.execute_reply": "2024-05-21T05:39:15.215492Z",
     "shell.execute_reply.started": "2024-05-21T05:39:15.148004Z"
    },
    "trusted": true
   },
   "outputs": [
    {
     "ename": "NameError",
     "evalue": "name 'updated_books' is not defined",
     "output_type": "error",
     "traceback": [
      "\u001b[1;31m---------------------------------------------------------------------------\u001b[0m",
      "\u001b[1;31mNameError\u001b[0m                                 Traceback (most recent call last)",
      "Cell \u001b[1;32mIn[4], line 1\u001b[0m\n\u001b[1;32m----> 1\u001b[0m updated_books \u001b[38;5;241m=\u001b[39m \u001b[43mupdated_books\u001b[49m\u001b[38;5;241m.\u001b[39mdropna()\n",
      "\u001b[1;31mNameError\u001b[0m: name 'updated_books' is not defined"
     ]
    }
   ],
   "source": [
    "updated_books = updated_books.dropna()"
   ]
  },
  {
   "cell_type": "code",
   "execution_count": 5,
   "metadata": {
    "execution": {
     "iopub.execute_input": "2024-05-21T05:39:17.713363Z",
     "iopub.status.busy": "2024-05-21T05:39:17.712982Z",
     "iopub.status.idle": "2024-05-21T05:39:17.719313Z",
     "shell.execute_reply": "2024-05-21T05:39:17.718369Z",
     "shell.execute_reply.started": "2024-05-21T05:39:17.713335Z"
    },
    "trusted": true
   },
   "outputs": [
    {
     "ename": "NameError",
     "evalue": "name 'updated_books' is not defined",
     "output_type": "error",
     "traceback": [
      "\u001b[1;31m---------------------------------------------------------------------------\u001b[0m",
      "\u001b[1;31mNameError\u001b[0m                                 Traceback (most recent call last)",
      "Cell \u001b[1;32mIn[5], line 1\u001b[0m\n\u001b[1;32m----> 1\u001b[0m \u001b[43mupdated_books\u001b[49m\u001b[38;5;241m.\u001b[39mshape\n",
      "\u001b[1;31mNameError\u001b[0m: name 'updated_books' is not defined"
     ]
    }
   ],
   "source": [
    "updated_books.shape"
   ]
  },
  {
   "cell_type": "code",
   "execution_count": 6,
   "metadata": {
    "execution": {
     "iopub.execute_input": "2024-05-21T05:39:19.917752Z",
     "iopub.status.busy": "2024-05-21T05:39:19.917384Z",
     "iopub.status.idle": "2024-05-21T05:39:19.974483Z",
     "shell.execute_reply": "2024-05-21T05:39:19.973372Z",
     "shell.execute_reply.started": "2024-05-21T05:39:19.917723Z"
    },
    "trusted": true
   },
   "outputs": [
    {
     "ename": "NameError",
     "evalue": "name 'updated_books' is not defined",
     "output_type": "error",
     "traceback": [
      "\u001b[1;31m---------------------------------------------------------------------------\u001b[0m",
      "\u001b[1;31mNameError\u001b[0m                                 Traceback (most recent call last)",
      "Cell \u001b[1;32mIn[6], line 1\u001b[0m\n\u001b[1;32m----> 1\u001b[0m \u001b[43mupdated_books\u001b[49m\u001b[38;5;241m.\u001b[39misnull()\u001b[38;5;241m.\u001b[39msum()\n",
      "\u001b[1;31mNameError\u001b[0m: name 'updated_books' is not defined"
     ]
    }
   ],
   "source": [
    "updated_books.isnull().sum()"
   ]
  },
  {
   "cell_type": "code",
   "execution_count": 7,
   "metadata": {
    "execution": {
     "iopub.execute_input": "2024-05-21T05:39:23.259996Z",
     "iopub.status.busy": "2024-05-21T05:39:23.259311Z",
     "iopub.status.idle": "2024-05-21T05:39:23.510554Z",
     "shell.execute_reply": "2024-05-21T05:39:23.509666Z",
     "shell.execute_reply.started": "2024-05-21T05:39:23.259967Z"
    },
    "trusted": true
   },
   "outputs": [
    {
     "ename": "NameError",
     "evalue": "name 'updated_books' is not defined",
     "output_type": "error",
     "traceback": [
      "\u001b[1;31m---------------------------------------------------------------------------\u001b[0m",
      "\u001b[1;31mNameError\u001b[0m                                 Traceback (most recent call last)",
      "Cell \u001b[1;32mIn[7], line 1\u001b[0m\n\u001b[1;32m----> 1\u001b[0m \u001b[43mupdated_books\u001b[49m\u001b[38;5;241m.\u001b[39mduplicated()\u001b[38;5;241m.\u001b[39msum()\n",
      "\u001b[1;31mNameError\u001b[0m: name 'updated_books' is not defined"
     ]
    }
   ],
   "source": [
    "updated_books.duplicated().sum()"
   ]
  },
  {
   "cell_type": "code",
   "execution_count": 8,
   "metadata": {
    "execution": {
     "iopub.execute_input": "2024-05-21T05:40:14.227465Z",
     "iopub.status.busy": "2024-05-21T05:40:14.227080Z",
     "iopub.status.idle": "2024-05-21T05:40:14.467713Z",
     "shell.execute_reply": "2024-05-21T05:40:14.466627Z",
     "shell.execute_reply.started": "2024-05-21T05:40:14.227434Z"
    },
    "trusted": true
   },
   "outputs": [
    {
     "ename": "NameError",
     "evalue": "name 'updated_books' is not defined",
     "output_type": "error",
     "traceback": [
      "\u001b[1;31m---------------------------------------------------------------------------\u001b[0m",
      "\u001b[1;31mNameError\u001b[0m                                 Traceback (most recent call last)",
      "Cell \u001b[1;32mIn[8], line 1\u001b[0m\n\u001b[1;32m----> 1\u001b[0m updated_books \u001b[38;5;241m=\u001b[39m \u001b[43mupdated_books\u001b[49m\u001b[38;5;241m.\u001b[39mdrop_duplicates()\n",
      "\u001b[1;31mNameError\u001b[0m: name 'updated_books' is not defined"
     ]
    }
   ],
   "source": [
    "updated_books = updated_books.drop_duplicates()"
   ]
  },
  {
   "cell_type": "code",
   "execution_count": 9,
   "metadata": {
    "execution": {
     "iopub.execute_input": "2024-05-21T05:40:16.005986Z",
     "iopub.status.busy": "2024-05-21T05:40:16.005303Z",
     "iopub.status.idle": "2024-05-21T05:40:16.211493Z",
     "shell.execute_reply": "2024-05-21T05:40:16.210580Z",
     "shell.execute_reply.started": "2024-05-21T05:40:16.005952Z"
    },
    "trusted": true
   },
   "outputs": [
    {
     "ename": "NameError",
     "evalue": "name 'updated_books' is not defined",
     "output_type": "error",
     "traceback": [
      "\u001b[1;31m---------------------------------------------------------------------------\u001b[0m",
      "\u001b[1;31mNameError\u001b[0m                                 Traceback (most recent call last)",
      "Cell \u001b[1;32mIn[9], line 1\u001b[0m\n\u001b[1;32m----> 1\u001b[0m \u001b[43mupdated_books\u001b[49m\u001b[38;5;241m.\u001b[39mduplicated()\u001b[38;5;241m.\u001b[39msum()\n",
      "\u001b[1;31mNameError\u001b[0m: name 'updated_books' is not defined"
     ]
    }
   ],
   "source": [
    "updated_books.duplicated().sum()"
   ]
  },
  {
   "cell_type": "code",
   "execution_count": 10,
   "metadata": {
    "execution": {
     "iopub.execute_input": "2024-05-21T05:40:17.964669Z",
     "iopub.status.busy": "2024-05-21T05:40:17.963662Z",
     "iopub.status.idle": "2024-05-21T05:40:17.970108Z",
     "shell.execute_reply": "2024-05-21T05:40:17.969098Z",
     "shell.execute_reply.started": "2024-05-21T05:40:17.964632Z"
    },
    "trusted": true
   },
   "outputs": [
    {
     "ename": "NameError",
     "evalue": "name 'updated_books' is not defined",
     "output_type": "error",
     "traceback": [
      "\u001b[1;31m---------------------------------------------------------------------------\u001b[0m",
      "\u001b[1;31mNameError\u001b[0m                                 Traceback (most recent call last)",
      "Cell \u001b[1;32mIn[10], line 1\u001b[0m\n\u001b[1;32m----> 1\u001b[0m \u001b[43mupdated_books\u001b[49m\u001b[38;5;241m.\u001b[39mshape\n",
      "\u001b[1;31mNameError\u001b[0m: name 'updated_books' is not defined"
     ]
    }
   ],
   "source": [
    "updated_books.shape"
   ]
  },
  {
   "cell_type": "code",
   "execution_count": 11,
   "metadata": {
    "execution": {
     "iopub.execute_input": "2024-05-21T05:40:19.309742Z",
     "iopub.status.busy": "2024-05-21T05:40:19.308764Z",
     "iopub.status.idle": "2024-05-21T05:40:19.317054Z",
     "shell.execute_reply": "2024-05-21T05:40:19.315909Z",
     "shell.execute_reply.started": "2024-05-21T05:40:19.309701Z"
    },
    "trusted": true
   },
   "outputs": [
    {
     "ename": "NameError",
     "evalue": "name 'updated_books' is not defined",
     "output_type": "error",
     "traceback": [
      "\u001b[1;31m---------------------------------------------------------------------------\u001b[0m",
      "\u001b[1;31mNameError\u001b[0m                                 Traceback (most recent call last)",
      "Cell \u001b[1;32mIn[11], line 1\u001b[0m\n\u001b[1;32m----> 1\u001b[0m \u001b[43mupdated_books\u001b[49m[\u001b[38;5;124m'\u001b[39m\u001b[38;5;124mgenres\u001b[39m\u001b[38;5;124m'\u001b[39m]\u001b[38;5;241m.\u001b[39mhead(\u001b[38;5;241m2\u001b[39m)\u001b[38;5;241m.\u001b[39mto_list()\n",
      "\u001b[1;31mNameError\u001b[0m: name 'updated_books' is not defined"
     ]
    }
   ],
   "source": [
    "updated_books['genres'].head(2).to_list()"
   ]
  },
  {
   "cell_type": "code",
   "execution_count": 12,
   "metadata": {
    "execution": {
     "iopub.execute_input": "2024-05-21T05:40:22.797578Z",
     "iopub.status.busy": "2024-05-21T05:40:22.796739Z",
     "iopub.status.idle": "2024-05-21T05:40:22.805326Z",
     "shell.execute_reply": "2024-05-21T05:40:22.804177Z",
     "shell.execute_reply.started": "2024-05-21T05:40:22.797545Z"
    },
    "trusted": true
   },
   "outputs": [
    {
     "ename": "NameError",
     "evalue": "name 'updated_books' is not defined",
     "output_type": "error",
     "traceback": [
      "\u001b[1;31m---------------------------------------------------------------------------\u001b[0m",
      "\u001b[1;31mNameError\u001b[0m                                 Traceback (most recent call last)",
      "Cell \u001b[1;32mIn[12], line 1\u001b[0m\n\u001b[1;32m----> 1\u001b[0m \u001b[43mupdated_books\u001b[49m[\u001b[38;5;124m'\u001b[39m\u001b[38;5;124mnumRatings\u001b[39m\u001b[38;5;124m'\u001b[39m]\u001b[38;5;241m.\u001b[39mhead(\u001b[38;5;241m1\u001b[39m)\n",
      "\u001b[1;31mNameError\u001b[0m: name 'updated_books' is not defined"
     ]
    }
   ],
   "source": [
    "updated_books['numRatings'].head(1)"
   ]
  },
  {
   "cell_type": "code",
   "execution_count": 13,
   "metadata": {
    "execution": {
     "iopub.execute_input": "2024-05-10T22:15:53.644177Z",
     "iopub.status.busy": "2024-05-10T22:15:53.643825Z",
     "iopub.status.idle": "2024-05-10T22:15:53.650796Z",
     "shell.execute_reply": "2024-05-10T22:15:53.649908Z",
     "shell.execute_reply.started": "2024-05-10T22:15:53.644147Z"
    },
    "trusted": true
   },
   "outputs": [
    {
     "ename": "NameError",
     "evalue": "name 'updated_books' is not defined",
     "output_type": "error",
     "traceback": [
      "\u001b[1;31m---------------------------------------------------------------------------\u001b[0m",
      "\u001b[1;31mNameError\u001b[0m                                 Traceback (most recent call last)",
      "Cell \u001b[1;32mIn[13], line 1\u001b[0m\n\u001b[1;32m----> 1\u001b[0m \u001b[43mupdated_books\u001b[49m\u001b[38;5;241m.\u001b[39mreset_index(drop\u001b[38;5;241m=\u001b[39m\u001b[38;5;28;01mTrue\u001b[39;00m, inplace\u001b[38;5;241m=\u001b[39m\u001b[38;5;28;01mTrue\u001b[39;00m)\n",
      "\u001b[1;31mNameError\u001b[0m: name 'updated_books' is not defined"
     ]
    }
   ],
   "source": [
    "updated_books.reset_index(drop=True, inplace=True)"
   ]
  },
  {
   "cell_type": "code",
   "execution_count": 14,
   "metadata": {
    "execution": {
     "iopub.execute_input": "2024-05-21T05:40:25.721465Z",
     "iopub.status.busy": "2024-05-21T05:40:25.720809Z",
     "iopub.status.idle": "2024-05-21T05:40:25.726310Z",
     "shell.execute_reply": "2024-05-21T05:40:25.725182Z",
     "shell.execute_reply.started": "2024-05-21T05:40:25.721433Z"
    },
    "trusted": true
   },
   "outputs": [
    {
     "ename": "NameError",
     "evalue": "name 'updated_books' is not defined",
     "output_type": "error",
     "traceback": [
      "\u001b[1;31m---------------------------------------------------------------------------\u001b[0m",
      "\u001b[1;31mNameError\u001b[0m                                 Traceback (most recent call last)",
      "Cell \u001b[1;32mIn[14], line 1\u001b[0m\n\u001b[1;32m----> 1\u001b[0m mask_numRatings \u001b[38;5;241m=\u001b[39m \u001b[43mupdated_books\u001b[49m[\u001b[38;5;124m'\u001b[39m\u001b[38;5;124mnumRatings\u001b[39m\u001b[38;5;124m'\u001b[39m] \u001b[38;5;241m>\u001b[39m\u001b[38;5;241m=\u001b[39m \u001b[38;5;241m10000\u001b[39m\n",
      "\u001b[1;31mNameError\u001b[0m: name 'updated_books' is not defined"
     ]
    }
   ],
   "source": [
    "mask_numRatings = updated_books['numRatings'] >= 10000"
   ]
  },
  {
   "cell_type": "code",
   "execution_count": 16,
   "metadata": {
    "execution": {
     "iopub.execute_input": "2024-05-21T05:40:27.833464Z",
     "iopub.status.busy": "2024-05-21T05:40:27.832891Z",
     "iopub.status.idle": "2024-05-21T05:40:27.844454Z",
     "shell.execute_reply": "2024-05-21T05:40:27.843612Z",
     "shell.execute_reply.started": "2024-05-21T05:40:27.833429Z"
    },
    "trusted": true
   },
   "outputs": [
    {
     "ename": "NameError",
     "evalue": "name 'updated_books' is not defined",
     "output_type": "error",
     "traceback": [
      "\u001b[1;31m---------------------------------------------------------------------------\u001b[0m",
      "\u001b[1;31mNameError\u001b[0m                                 Traceback (most recent call last)",
      "Cell \u001b[1;32mIn[16], line 1\u001b[0m\n\u001b[1;32m----> 1\u001b[0m x \u001b[38;5;241m=\u001b[39m \u001b[43mupdated_books\u001b[49m[mask_numRatings]\n",
      "\u001b[1;31mNameError\u001b[0m: name 'updated_books' is not defined"
     ]
    }
   ],
   "source": [
    "x = updated_books[mask_numRatings]"
   ]
  },
  {
   "cell_type": "code",
   "execution_count": 17,
   "metadata": {
    "execution": {
     "iopub.execute_input": "2024-05-21T05:40:34.483262Z",
     "iopub.status.busy": "2024-05-21T05:40:34.482395Z",
     "iopub.status.idle": "2024-05-21T05:40:34.488894Z",
     "shell.execute_reply": "2024-05-21T05:40:34.488026Z",
     "shell.execute_reply.started": "2024-05-21T05:40:34.483225Z"
    },
    "trusted": true
   },
   "outputs": [
    {
     "ename": "NameError",
     "evalue": "name 'x' is not defined",
     "output_type": "error",
     "traceback": [
      "\u001b[1;31m---------------------------------------------------------------------------\u001b[0m",
      "\u001b[1;31mNameError\u001b[0m                                 Traceback (most recent call last)",
      "Cell \u001b[1;32mIn[17], line 1\u001b[0m\n\u001b[1;32m----> 1\u001b[0m \u001b[43mx\u001b[49m\u001b[38;5;241m.\u001b[39mshape\n",
      "\u001b[1;31mNameError\u001b[0m: name 'x' is not defined"
     ]
    }
   ],
   "source": [
    "x.shape"
   ]
  },
  {
   "cell_type": "code",
   "execution_count": 18,
   "metadata": {
    "execution": {
     "iopub.execute_input": "2024-05-21T05:40:36.173503Z",
     "iopub.status.busy": "2024-05-21T05:40:36.172900Z",
     "iopub.status.idle": "2024-05-21T05:40:36.178042Z",
     "shell.execute_reply": "2024-05-21T05:40:36.177142Z",
     "shell.execute_reply.started": "2024-05-21T05:40:36.173474Z"
    },
    "trusted": true
   },
   "outputs": [
    {
     "ename": "NameError",
     "evalue": "name 'x' is not defined",
     "output_type": "error",
     "traceback": [
      "\u001b[1;31m---------------------------------------------------------------------------\u001b[0m",
      "\u001b[1;31mNameError\u001b[0m                                 Traceback (most recent call last)",
      "Cell \u001b[1;32mIn[18], line 1\u001b[0m\n\u001b[1;32m----> 1\u001b[0m mask_rating \u001b[38;5;241m=\u001b[39m \u001b[43mx\u001b[49m[\u001b[38;5;124m'\u001b[39m\u001b[38;5;124mrating\u001b[39m\u001b[38;5;124m'\u001b[39m] \u001b[38;5;241m>\u001b[39m\u001b[38;5;241m=\u001b[39m \u001b[38;5;241m3\u001b[39m\n",
      "\u001b[1;31mNameError\u001b[0m: name 'x' is not defined"
     ]
    }
   ],
   "source": [
    "mask_rating = x['rating'] >= 3"
   ]
  },
  {
   "cell_type": "code",
   "execution_count": 19,
   "metadata": {
    "execution": {
     "iopub.execute_input": "2024-05-21T05:40:40.321680Z",
     "iopub.status.busy": "2024-05-21T05:40:40.321304Z",
     "iopub.status.idle": "2024-05-21T05:40:40.329730Z",
     "shell.execute_reply": "2024-05-21T05:40:40.328866Z",
     "shell.execute_reply.started": "2024-05-21T05:40:40.321650Z"
    },
    "trusted": true
   },
   "outputs": [
    {
     "ename": "NameError",
     "evalue": "name 'x' is not defined",
     "output_type": "error",
     "traceback": [
      "\u001b[1;31m---------------------------------------------------------------------------\u001b[0m",
      "\u001b[1;31mNameError\u001b[0m                                 Traceback (most recent call last)",
      "Cell \u001b[1;32mIn[19], line 1\u001b[0m\n\u001b[1;32m----> 1\u001b[0m req_updated_books \u001b[38;5;241m=\u001b[39m \u001b[43mx\u001b[49m[mask_rating]\n",
      "\u001b[1;31mNameError\u001b[0m: name 'x' is not defined"
     ]
    }
   ],
   "source": [
    "req_updated_books = x[mask_rating]"
   ]
  },
  {
   "cell_type": "code",
   "execution_count": 20,
   "metadata": {
    "execution": {
     "iopub.execute_input": "2024-05-21T05:40:42.861700Z",
     "iopub.status.busy": "2024-05-21T05:40:42.861349Z",
     "iopub.status.idle": "2024-05-21T05:40:42.867720Z",
     "shell.execute_reply": "2024-05-21T05:40:42.866802Z",
     "shell.execute_reply.started": "2024-05-21T05:40:42.861671Z"
    },
    "trusted": true
   },
   "outputs": [
    {
     "ename": "NameError",
     "evalue": "name 'req_updated_books' is not defined",
     "output_type": "error",
     "traceback": [
      "\u001b[1;31m---------------------------------------------------------------------------\u001b[0m",
      "\u001b[1;31mNameError\u001b[0m                                 Traceback (most recent call last)",
      "Cell \u001b[1;32mIn[20], line 1\u001b[0m\n\u001b[1;32m----> 1\u001b[0m \u001b[43mreq_updated_books\u001b[49m\u001b[38;5;241m.\u001b[39mshape\n",
      "\u001b[1;31mNameError\u001b[0m: name 'req_updated_books' is not defined"
     ]
    }
   ],
   "source": [
    "req_updated_books.shape"
   ]
  },
  {
   "cell_type": "code",
   "execution_count": 21,
   "metadata": {
    "execution": {
     "iopub.execute_input": "2024-05-21T05:40:44.698149Z",
     "iopub.status.busy": "2024-05-21T05:40:44.697523Z",
     "iopub.status.idle": "2024-05-21T05:40:44.710335Z",
     "shell.execute_reply": "2024-05-21T05:40:44.709207Z",
     "shell.execute_reply.started": "2024-05-21T05:40:44.698119Z"
    },
    "trusted": true
   },
   "outputs": [
    {
     "ename": "NameError",
     "evalue": "name 'req_updated_books' is not defined",
     "output_type": "error",
     "traceback": [
      "\u001b[1;31m---------------------------------------------------------------------------\u001b[0m",
      "\u001b[1;31mNameError\u001b[0m                                 Traceback (most recent call last)",
      "Cell \u001b[1;32mIn[21], line 1\u001b[0m\n\u001b[1;32m----> 1\u001b[0m \u001b[43mreq_updated_books\u001b[49m[\u001b[38;5;124m'\u001b[39m\u001b[38;5;124misbn\u001b[39m\u001b[38;5;124m'\u001b[39m]\u001b[38;5;241m.\u001b[39mduplicated()\u001b[38;5;241m.\u001b[39mvalue_counts()\n",
      "\u001b[1;31mNameError\u001b[0m: name 'req_updated_books' is not defined"
     ]
    }
   ],
   "source": [
    "req_updated_books['isbn'].duplicated().value_counts()"
   ]
  },
  {
   "cell_type": "code",
   "execution_count": 22,
   "metadata": {
    "execution": {
     "iopub.execute_input": "2024-05-21T05:40:46.958091Z",
     "iopub.status.busy": "2024-05-21T05:40:46.957444Z",
     "iopub.status.idle": "2024-05-21T05:40:46.969617Z",
     "shell.execute_reply": "2024-05-21T05:40:46.968723Z",
     "shell.execute_reply.started": "2024-05-21T05:40:46.958061Z"
    },
    "trusted": true
   },
   "outputs": [
    {
     "ename": "NameError",
     "evalue": "name 'req_updated_books' is not defined",
     "output_type": "error",
     "traceback": [
      "\u001b[1;31m---------------------------------------------------------------------------\u001b[0m",
      "\u001b[1;31mNameError\u001b[0m                                 Traceback (most recent call last)",
      "Cell \u001b[1;32mIn[22], line 1\u001b[0m\n\u001b[1;32m----> 1\u001b[0m \u001b[43mreq_updated_books\u001b[49m\u001b[38;5;241m.\u001b[39mdrop_duplicates(subset\u001b[38;5;241m=\u001b[39m[\u001b[38;5;124m'\u001b[39m\u001b[38;5;124misbn\u001b[39m\u001b[38;5;124m'\u001b[39m], inplace\u001b[38;5;241m=\u001b[39m\u001b[38;5;28;01mTrue\u001b[39;00m)\n",
      "\u001b[1;31mNameError\u001b[0m: name 'req_updated_books' is not defined"
     ]
    }
   ],
   "source": [
    "req_updated_books.drop_duplicates(subset=['isbn'], inplace=True)"
   ]
  },
  {
   "cell_type": "code",
   "execution_count": 23,
   "metadata": {
    "execution": {
     "iopub.execute_input": "2024-05-21T05:40:49.734260Z",
     "iopub.status.busy": "2024-05-21T05:40:49.733548Z",
     "iopub.status.idle": "2024-05-21T05:40:49.743506Z",
     "shell.execute_reply": "2024-05-21T05:40:49.742509Z",
     "shell.execute_reply.started": "2024-05-21T05:40:49.734228Z"
    },
    "trusted": true
   },
   "outputs": [
    {
     "ename": "NameError",
     "evalue": "name 'req_updated_books' is not defined",
     "output_type": "error",
     "traceback": [
      "\u001b[1;31m---------------------------------------------------------------------------\u001b[0m",
      "\u001b[1;31mNameError\u001b[0m                                 Traceback (most recent call last)",
      "Cell \u001b[1;32mIn[23], line 1\u001b[0m\n\u001b[1;32m----> 1\u001b[0m \u001b[43mreq_updated_books\u001b[49m[\u001b[38;5;124m'\u001b[39m\u001b[38;5;124misbn\u001b[39m\u001b[38;5;124m'\u001b[39m]\u001b[38;5;241m.\u001b[39mduplicated()\u001b[38;5;241m.\u001b[39mvalue_counts()\n",
      "\u001b[1;31mNameError\u001b[0m: name 'req_updated_books' is not defined"
     ]
    }
   ],
   "source": [
    "req_updated_books['isbn'].duplicated().value_counts()"
   ]
  },
  {
   "cell_type": "code",
   "execution_count": 24,
   "metadata": {
    "execution": {
     "iopub.execute_input": "2024-05-21T05:40:51.171441Z",
     "iopub.status.busy": "2024-05-21T05:40:51.171098Z",
     "iopub.status.idle": "2024-05-21T05:40:51.181460Z",
     "shell.execute_reply": "2024-05-21T05:40:51.180332Z",
     "shell.execute_reply.started": "2024-05-21T05:40:51.171413Z"
    },
    "trusted": true
   },
   "outputs": [
    {
     "ename": "NameError",
     "evalue": "name 'req_updated_books' is not defined",
     "output_type": "error",
     "traceback": [
      "\u001b[1;31m---------------------------------------------------------------------------\u001b[0m",
      "\u001b[1;31mNameError\u001b[0m                                 Traceback (most recent call last)",
      "Cell \u001b[1;32mIn[24], line 1\u001b[0m\n\u001b[1;32m----> 1\u001b[0m \u001b[43mreq_updated_books\u001b[49m[\u001b[38;5;124m'\u001b[39m\u001b[38;5;124mtitle\u001b[39m\u001b[38;5;124m'\u001b[39m]\u001b[38;5;241m.\u001b[39mduplicated()\u001b[38;5;241m.\u001b[39mvalue_counts()\n",
      "\u001b[1;31mNameError\u001b[0m: name 'req_updated_books' is not defined"
     ]
    }
   ],
   "source": [
    "req_updated_books['title'].duplicated().value_counts()"
   ]
  },
  {
   "cell_type": "code",
   "execution_count": 25,
   "metadata": {
    "execution": {
     "iopub.execute_input": "2024-05-21T05:40:53.049380Z",
     "iopub.status.busy": "2024-05-21T05:40:53.049032Z",
     "iopub.status.idle": "2024-05-21T05:40:53.060743Z",
     "shell.execute_reply": "2024-05-21T05:40:53.059782Z",
     "shell.execute_reply.started": "2024-05-21T05:40:53.049353Z"
    },
    "trusted": true
   },
   "outputs": [
    {
     "ename": "NameError",
     "evalue": "name 'req_updated_books' is not defined",
     "output_type": "error",
     "traceback": [
      "\u001b[1;31m---------------------------------------------------------------------------\u001b[0m",
      "\u001b[1;31mNameError\u001b[0m                                 Traceback (most recent call last)",
      "Cell \u001b[1;32mIn[25], line 1\u001b[0m\n\u001b[1;32m----> 1\u001b[0m \u001b[43mreq_updated_books\u001b[49m\u001b[38;5;241m.\u001b[39mdrop_duplicates(subset\u001b[38;5;241m=\u001b[39m[\u001b[38;5;124m'\u001b[39m\u001b[38;5;124mtitle\u001b[39m\u001b[38;5;124m'\u001b[39m], inplace\u001b[38;5;241m=\u001b[39m\u001b[38;5;28;01mTrue\u001b[39;00m)\n",
      "\u001b[1;31mNameError\u001b[0m: name 'req_updated_books' is not defined"
     ]
    }
   ],
   "source": [
    "req_updated_books.drop_duplicates(subset=['title'], inplace=True)"
   ]
  },
  {
   "cell_type": "code",
   "execution_count": 27,
   "metadata": {
    "execution": {
     "iopub.execute_input": "2024-05-21T05:40:56.099895Z",
     "iopub.status.busy": "2024-05-21T05:40:56.099209Z",
     "iopub.status.idle": "2024-05-21T05:40:56.105902Z",
     "shell.execute_reply": "2024-05-21T05:40:56.104783Z",
     "shell.execute_reply.started": "2024-05-21T05:40:56.099860Z"
    },
    "trusted": true
   },
   "outputs": [
    {
     "ename": "NameError",
     "evalue": "name 'req_updated_books' is not defined",
     "output_type": "error",
     "traceback": [
      "\u001b[1;31m---------------------------------------------------------------------------\u001b[0m",
      "\u001b[1;31mNameError\u001b[0m                                 Traceback (most recent call last)",
      "Cell \u001b[1;32mIn[27], line 1\u001b[0m\n\u001b[1;32m----> 1\u001b[0m \u001b[43mreq_updated_books\u001b[49m\u001b[38;5;241m.\u001b[39mshape\n",
      "\u001b[1;31mNameError\u001b[0m: name 'req_updated_books' is not defined"
     ]
    }
   ],
   "source": [
    "req_updated_books.shape"
   ]
  },
  {
   "cell_type": "code",
   "execution_count": 28,
   "metadata": {
    "execution": {
     "iopub.execute_input": "2024-05-21T05:40:57.456443Z",
     "iopub.status.busy": "2024-05-21T05:40:57.456074Z",
     "iopub.status.idle": "2024-05-21T05:40:57.659774Z",
     "shell.execute_reply": "2024-05-21T05:40:57.658847Z",
     "shell.execute_reply.started": "2024-05-21T05:40:57.456413Z"
    },
    "trusted": true
   },
   "outputs": [
    {
     "ename": "NameError",
     "evalue": "name 'req_updated_books' is not defined",
     "output_type": "error",
     "traceback": [
      "\u001b[1;31m---------------------------------------------------------------------------\u001b[0m",
      "\u001b[1;31mNameError\u001b[0m                                 Traceback (most recent call last)",
      "Cell \u001b[1;32mIn[28], line 2\u001b[0m\n\u001b[0;32m      1\u001b[0m \u001b[38;5;66;03m### DESCRIPTION SETTING\u001b[39;00m\n\u001b[1;32m----> 2\u001b[0m req_updated_books[\u001b[38;5;124m'\u001b[39m\u001b[38;5;124mdescription\u001b[39m\u001b[38;5;124m'\u001b[39m] \u001b[38;5;241m=\u001b[39m \u001b[43mreq_updated_books\u001b[49m[\u001b[38;5;124m'\u001b[39m\u001b[38;5;124mdescription\u001b[39m\u001b[38;5;124m'\u001b[39m]\u001b[38;5;241m.\u001b[39mapply(\u001b[38;5;28;01mlambda\u001b[39;00m x: x\u001b[38;5;241m.\u001b[39msplit())\n",
      "\u001b[1;31mNameError\u001b[0m: name 'req_updated_books' is not defined"
     ]
    }
   ],
   "source": [
    "### DESCRIPTION SETTING\n",
    "req_updated_books['description'] = req_updated_books['description'].apply(lambda x: x.split())"
   ]
  },
  {
   "cell_type": "code",
   "execution_count": 29,
   "metadata": {
    "execution": {
     "iopub.execute_input": "2024-05-21T05:41:05.384478Z",
     "iopub.status.busy": "2024-05-21T05:41:05.384106Z",
     "iopub.status.idle": "2024-05-21T05:41:05.432750Z",
     "shell.execute_reply": "2024-05-21T05:41:05.431706Z",
     "shell.execute_reply.started": "2024-05-21T05:41:05.384450Z"
    },
    "trusted": true
   },
   "outputs": [
    {
     "ename": "NameError",
     "evalue": "name 'req_updated_books' is not defined",
     "output_type": "error",
     "traceback": [
      "\u001b[1;31m---------------------------------------------------------------------------\u001b[0m",
      "\u001b[1;31mNameError\u001b[0m                                 Traceback (most recent call last)",
      "Cell \u001b[1;32mIn[29], line 1\u001b[0m\n\u001b[1;32m----> 1\u001b[0m \u001b[43mreq_updated_books\u001b[49m\u001b[38;5;241m.\u001b[39mhead(\u001b[38;5;241m1\u001b[39m)\n",
      "\u001b[1;31mNameError\u001b[0m: name 'req_updated_books' is not defined"
     ]
    }
   ],
   "source": [
    "req_updated_books.head(1)"
   ]
  },
  {
   "cell_type": "code",
   "execution_count": null,
   "metadata": {
    "execution": {
     "iopub.execute_input": "2024-05-21T05:41:07.860623Z",
     "iopub.status.busy": "2024-05-21T05:41:07.859777Z",
     "iopub.status.idle": "2024-05-21T05:41:07.864847Z",
     "shell.execute_reply": "2024-05-21T05:41:07.863774Z",
     "shell.execute_reply.started": "2024-05-21T05:41:07.860583Z"
    },
    "trusted": true
   },
   "outputs": [],
   "source": [
    "### CONVERTING STRING TO LIST\n",
    "def convert_to_list(text):\n",
    "    return [text]\n"
   ]
  },
  {
   "cell_type": "code",
   "execution_count": null,
   "metadata": {
    "execution": {
     "iopub.execute_input": "2024-05-21T05:41:10.216537Z",
     "iopub.status.busy": "2024-05-21T05:41:10.216213Z",
     "iopub.status.idle": "2024-05-21T05:41:10.233133Z",
     "shell.execute_reply": "2024-05-21T05:41:10.232058Z",
     "shell.execute_reply.started": "2024-05-21T05:41:10.216513Z"
    },
    "trusted": true
   },
   "outputs": [],
   "source": [
    "req_updated_books['author'] = req_updated_books['author'].apply(convert_to_list)\n",
    "req_updated_books['language'] = req_updated_books['language'].apply(convert_to_list)"
   ]
  },
  {
   "cell_type": "code",
   "execution_count": null,
   "metadata": {
    "execution": {
     "iopub.execute_input": "2024-05-21T05:41:13.113736Z",
     "iopub.status.busy": "2024-05-21T05:41:13.112707Z",
     "iopub.status.idle": "2024-05-21T05:41:13.130818Z",
     "shell.execute_reply": "2024-05-21T05:41:13.129640Z",
     "shell.execute_reply.started": "2024-05-21T05:41:13.113690Z"
    },
    "trusted": true
   },
   "outputs": [],
   "source": [
    "req_updated_books.head(1)"
   ]
  },
  {
   "cell_type": "code",
   "execution_count": null,
   "metadata": {
    "execution": {
     "iopub.execute_input": "2024-05-21T05:41:30.862903Z",
     "iopub.status.busy": "2024-05-21T05:41:30.862536Z",
     "iopub.status.idle": "2024-05-21T05:41:30.867760Z",
     "shell.execute_reply": "2024-05-21T05:41:30.866684Z",
     "shell.execute_reply.started": "2024-05-21T05:41:30.862873Z"
    },
    "trusted": true
   },
   "outputs": [],
   "source": [
    "### SPACE REMOVING\n",
    "def remove_space_author(L):\n",
    "    L1 = []\n",
    "    for word in L:\n",
    "        cleaned_word = word.replace(\" \", \"\")\n",
    "        L1.append(cleaned_word)\n",
    "    return L1"
   ]
  },
  {
   "cell_type": "code",
   "execution_count": null,
   "metadata": {
    "execution": {
     "iopub.execute_input": "2024-05-21T05:41:22.104608Z",
     "iopub.status.busy": "2024-05-21T05:41:22.103878Z",
     "iopub.status.idle": "2024-05-21T05:41:22.118784Z",
     "shell.execute_reply": "2024-05-21T05:41:22.117807Z",
     "shell.execute_reply.started": "2024-05-21T05:41:22.104578Z"
    },
    "trusted": true
   },
   "outputs": [],
   "source": [
    "req_updated_books['author'] = req_updated_books['author'].apply(remove_space_author)"
   ]
  },
  {
   "cell_type": "code",
   "execution_count": null,
   "metadata": {
    "execution": {
     "iopub.execute_input": "2024-05-21T05:41:36.770326Z",
     "iopub.status.busy": "2024-05-21T05:41:36.769644Z",
     "iopub.status.idle": "2024-05-21T05:41:36.777884Z",
     "shell.execute_reply": "2024-05-21T05:41:36.776841Z",
     "shell.execute_reply.started": "2024-05-21T05:41:36.770296Z"
    },
    "trusted": true
   },
   "outputs": [],
   "source": [
    "req_updated_books['author'].head(2)"
   ]
  },
  {
   "cell_type": "code",
   "execution_count": null,
   "metadata": {
    "execution": {
     "iopub.execute_input": "2024-05-21T05:41:39.866858Z",
     "iopub.status.busy": "2024-05-21T05:41:39.866033Z",
     "iopub.status.idle": "2024-05-21T05:41:39.871886Z",
     "shell.execute_reply": "2024-05-21T05:41:39.870778Z",
     "shell.execute_reply.started": "2024-05-21T05:41:39.866823Z"
    },
    "trusted": true
   },
   "outputs": [],
   "source": [
    "def remove_space_genera(genres_string):\n",
    "    # Remove square brackets and split the string by commas\n",
    "    genres_list = genres_string.strip(\"[]\").split(\", \")\n",
    "    \n",
    "    # Remove spaces and single quotes from each genre\n",
    "    cleaned_genres = [genre.strip(\"'\").replace(\" \", \"\") for genre in genres_list]\n",
    "    \n",
    "    return cleaned_genres"
   ]
  },
  {
   "cell_type": "code",
   "execution_count": null,
   "metadata": {
    "execution": {
     "iopub.execute_input": "2024-05-21T05:41:43.059587Z",
     "iopub.status.busy": "2024-05-21T05:41:43.058850Z",
     "iopub.status.idle": "2024-05-21T05:41:43.132627Z",
     "shell.execute_reply": "2024-05-21T05:41:43.131646Z",
     "shell.execute_reply.started": "2024-05-21T05:41:43.059555Z"
    },
    "trusted": true
   },
   "outputs": [],
   "source": [
    "req_updated_books['genres'] = req_updated_books['genres'].apply(remove_space_genera)"
   ]
  },
  {
   "cell_type": "code",
   "execution_count": null,
   "metadata": {
    "execution": {
     "iopub.execute_input": "2024-05-21T05:41:45.556692Z",
     "iopub.status.busy": "2024-05-21T05:41:45.555738Z",
     "iopub.status.idle": "2024-05-21T05:41:45.564689Z",
     "shell.execute_reply": "2024-05-21T05:41:45.563705Z",
     "shell.execute_reply.started": "2024-05-21T05:41:45.556655Z"
    },
    "trusted": true
   },
   "outputs": [],
   "source": [
    "req_updated_books['genres'].head(2)"
   ]
  },
  {
   "cell_type": "code",
   "execution_count": null,
   "metadata": {
    "execution": {
     "iopub.execute_input": "2024-05-21T05:41:47.525986Z",
     "iopub.status.busy": "2024-05-21T05:41:47.525020Z",
     "iopub.status.idle": "2024-05-21T05:41:47.532212Z",
     "shell.execute_reply": "2024-05-21T05:41:47.531039Z",
     "shell.execute_reply.started": "2024-05-21T05:41:47.525941Z"
    },
    "trusted": true
   },
   "outputs": [],
   "source": [
    "def remove_spaces_characters(characters_string):\n",
    "    # Split the string by comma and remove leading/trailing spaces and brackets\n",
    "    characters_list = characters_string.strip(\"[]\").split(\", \")\n",
    "\n",
    "    # Remove spaces from each word in the list\n",
    "    characters_list = [character.replace(\" \", \"\") for character in characters_list]\n",
    "\n",
    "    # Join the characters back into a string\n",
    "    cleaned_characters_string = ', '.join(characters_list)\n",
    "\n",
    "    return [cleaned_characters_string]\n"
   ]
  },
  {
   "cell_type": "code",
   "execution_count": null,
   "metadata": {
    "execution": {
     "iopub.execute_input": "2024-05-21T05:41:53.183979Z",
     "iopub.status.busy": "2024-05-21T05:41:53.182827Z",
     "iopub.status.idle": "2024-05-21T05:41:53.224672Z",
     "shell.execute_reply": "2024-05-21T05:41:53.223597Z",
     "shell.execute_reply.started": "2024-05-21T05:41:53.183941Z"
    },
    "trusted": true
   },
   "outputs": [],
   "source": [
    "req_updated_books['characters'] = req_updated_books['characters'].apply(remove_spaces_characters)\n",
    "# req_updated_books['characters']"
   ]
  },
  {
   "cell_type": "code",
   "execution_count": null,
   "metadata": {
    "execution": {
     "iopub.execute_input": "2024-05-21T05:41:55.377894Z",
     "iopub.status.busy": "2024-05-21T05:41:55.377522Z",
     "iopub.status.idle": "2024-05-21T05:41:55.386142Z",
     "shell.execute_reply": "2024-05-21T05:41:55.385015Z",
     "shell.execute_reply.started": "2024-05-21T05:41:55.377864Z"
    },
    "trusted": true
   },
   "outputs": [],
   "source": [
    "req_updated_books['characters'].head(1)"
   ]
  },
  {
   "cell_type": "code",
   "execution_count": null,
   "metadata": {
    "execution": {
     "iopub.execute_input": "2024-05-21T05:41:57.461362Z",
     "iopub.status.busy": "2024-05-21T05:41:57.460686Z",
     "iopub.status.idle": "2024-05-21T05:41:57.467354Z",
     "shell.execute_reply": "2024-05-21T05:41:57.466348Z",
     "shell.execute_reply.started": "2024-05-21T05:41:57.461329Z"
    },
    "trusted": true
   },
   "outputs": [],
   "source": [
    "req_updated_books.shape"
   ]
  },
  {
   "cell_type": "code",
   "execution_count": null,
   "metadata": {
    "execution": {
     "iopub.execute_input": "2024-05-21T05:41:59.313182Z",
     "iopub.status.busy": "2024-05-21T05:41:59.312471Z",
     "iopub.status.idle": "2024-05-21T05:41:59.363357Z",
     "shell.execute_reply": "2024-05-21T05:41:59.362337Z",
     "shell.execute_reply.started": "2024-05-21T05:41:59.313150Z"
    },
    "trusted": true
   },
   "outputs": [],
   "source": [
    "req_updated_books"
   ]
  },
  {
   "cell_type": "code",
   "execution_count": null,
   "metadata": {
    "execution": {
     "iopub.execute_input": "2024-05-21T05:42:07.833232Z",
     "iopub.status.busy": "2024-05-21T05:42:07.832630Z",
     "iopub.status.idle": "2024-05-21T05:42:07.837385Z",
     "shell.execute_reply": "2024-05-21T05:42:07.836486Z",
     "shell.execute_reply.started": "2024-05-21T05:42:07.833200Z"
    },
    "trusted": true
   },
   "outputs": [],
   "source": [
    "req_updated_books.reset_index(drop=True, inplace=True)"
   ]
  },
  {
   "cell_type": "code",
   "execution_count": null,
   "metadata": {
    "execution": {
     "iopub.execute_input": "2024-05-21T05:42:11.245906Z",
     "iopub.status.busy": "2024-05-21T05:42:11.245071Z",
     "iopub.status.idle": "2024-05-21T05:42:11.292634Z",
     "shell.execute_reply": "2024-05-21T05:42:11.291681Z",
     "shell.execute_reply.started": "2024-05-21T05:42:11.245873Z"
    },
    "trusted": true
   },
   "outputs": [],
   "source": [
    "req_updated_books"
   ]
  },
  {
   "cell_type": "code",
   "execution_count": null,
   "metadata": {
    "execution": {
     "iopub.execute_input": "2024-05-21T05:42:18.479446Z",
     "iopub.status.busy": "2024-05-21T05:42:18.479106Z",
     "iopub.status.idle": "2024-05-21T05:42:18.488636Z",
     "shell.execute_reply": "2024-05-21T05:42:18.487636Z",
     "shell.execute_reply.started": "2024-05-21T05:42:18.479418Z"
    },
    "trusted": true
   },
   "outputs": [],
   "source": [
    "### CONTENT-BASE-REOMMENDATION\n",
    "content_data = req_updated_books[['isbn', 'title', 'author', 'genres', 'language', 'characters', 'description',]]"
   ]
  },
  {
   "cell_type": "code",
   "execution_count": null,
   "metadata": {
    "execution": {
     "iopub.execute_input": "2024-05-21T05:42:21.274104Z",
     "iopub.status.busy": "2024-05-21T05:42:21.273736Z",
     "iopub.status.idle": "2024-05-21T05:42:21.380743Z",
     "shell.execute_reply": "2024-05-21T05:42:21.379842Z",
     "shell.execute_reply.started": "2024-05-21T05:42:21.274073Z"
    },
    "trusted": true
   },
   "outputs": [],
   "source": [
    "content_data.head(1)"
   ]
  },
  {
   "cell_type": "code",
   "execution_count": null,
   "metadata": {
    "execution": {
     "iopub.execute_input": "2024-05-21T05:42:25.439171Z",
     "iopub.status.busy": "2024-05-21T05:42:25.435760Z",
     "iopub.status.idle": "2024-05-21T05:42:25.446311Z",
     "shell.execute_reply": "2024-05-21T05:42:25.445368Z",
     "shell.execute_reply.started": "2024-05-21T05:42:25.439116Z"
    },
    "trusted": true
   },
   "outputs": [],
   "source": [
    "content_data['characters'].head(1).to_list()"
   ]
  },
  {
   "cell_type": "code",
   "execution_count": null,
   "metadata": {
    "execution": {
     "iopub.execute_input": "2024-05-21T05:42:27.842966Z",
     "iopub.status.busy": "2024-05-21T05:42:27.842598Z",
     "iopub.status.idle": "2024-05-21T05:42:27.847177Z",
     "shell.execute_reply": "2024-05-21T05:42:27.846248Z",
     "shell.execute_reply.started": "2024-05-21T05:42:27.842938Z"
    },
    "trusted": true
   },
   "outputs": [],
   "source": [
    "import ast"
   ]
  },
  {
   "cell_type": "code",
   "execution_count": null,
   "metadata": {
    "execution": {
     "iopub.execute_input": "2024-05-21T05:42:41.165722Z",
     "iopub.status.busy": "2024-05-21T05:42:41.165371Z",
     "iopub.status.idle": "2024-05-21T05:42:41.169754Z",
     "shell.execute_reply": "2024-05-21T05:42:41.168852Z",
     "shell.execute_reply.started": "2024-05-21T05:42:41.165694Z"
    },
    "trusted": true
   },
   "outputs": [],
   "source": [
    "# content_data['characters'] = content_data['characters'].apply(lambda x: ast.literal_eval(x))"
   ]
  },
  {
   "cell_type": "code",
   "execution_count": 1,
   "metadata": {
    "execution": {
     "iopub.execute_input": "2024-05-21T05:42:44.795020Z",
     "iopub.status.busy": "2024-05-21T05:42:44.794652Z",
     "iopub.status.idle": "2024-05-21T05:42:44.869139Z",
     "shell.execute_reply": "2024-05-21T05:42:44.868298Z",
     "shell.execute_reply.started": "2024-05-21T05:42:44.794989Z"
    },
    "trusted": true
   },
   "outputs": [
    {
     "ename": "NameError",
     "evalue": "name 'content_data' is not defined",
     "output_type": "error",
     "traceback": [
      "\u001b[1;31m---------------------------------------------------------------------------\u001b[0m",
      "\u001b[1;31mNameError\u001b[0m                                 Traceback (most recent call last)",
      "Cell \u001b[1;32mIn[1], line 2\u001b[0m\n\u001b[0;32m      1\u001b[0m req_tags \u001b[38;5;241m=\u001b[39m (\n\u001b[1;32m----> 2\u001b[0m     \u001b[43mcontent_data\u001b[49m[\u001b[38;5;124m'\u001b[39m\u001b[38;5;124mauthor\u001b[39m\u001b[38;5;124m'\u001b[39m] \u001b[38;5;241m+\u001b[39m\n\u001b[0;32m      3\u001b[0m     content_data[\u001b[38;5;124m'\u001b[39m\u001b[38;5;124mgenres\u001b[39m\u001b[38;5;124m'\u001b[39m] \u001b[38;5;241m+\u001b[39m\n\u001b[0;32m      4\u001b[0m     content_data[\u001b[38;5;124m'\u001b[39m\u001b[38;5;124mlanguage\u001b[39m\u001b[38;5;124m'\u001b[39m] \u001b[38;5;241m+\u001b[39m\n\u001b[0;32m      5\u001b[0m     content_data[\u001b[38;5;124m'\u001b[39m\u001b[38;5;124mcharacters\u001b[39m\u001b[38;5;124m'\u001b[39m] \u001b[38;5;241m+\u001b[39m\n\u001b[0;32m      6\u001b[0m     content_data[\u001b[38;5;124m'\u001b[39m\u001b[38;5;124mdescription\u001b[39m\u001b[38;5;124m'\u001b[39m]\n\u001b[0;32m      7\u001b[0m )\n",
      "\u001b[1;31mNameError\u001b[0m: name 'content_data' is not defined"
     ]
    }
   ],
   "source": [
    "req_tags = (\n",
    "    content_data['author'] +\n",
    "    content_data['genres'] +\n",
    "    content_data['language'] +\n",
    "    content_data['characters'] +\n",
    "    content_data['description']\n",
    ")\n"
   ]
  },
  {
   "cell_type": "code",
   "execution_count": null,
   "metadata": {
    "execution": {
     "iopub.execute_input": "2024-05-21T05:42:49.041200Z",
     "iopub.status.busy": "2024-05-21T05:42:49.040453Z",
     "iopub.status.idle": "2024-05-21T05:42:49.047275Z",
     "shell.execute_reply": "2024-05-21T05:42:49.046324Z",
     "shell.execute_reply.started": "2024-05-21T05:42:49.041152Z"
    },
    "trusted": true
   },
   "outputs": [],
   "source": [
    "content_data['tags'] = req_tags"
   ]
  },
  {
   "cell_type": "code",
   "execution_count": null,
   "metadata": {
    "execution": {
     "iopub.execute_input": "2024-05-21T05:42:51.141908Z",
     "iopub.status.busy": "2024-05-21T05:42:51.141508Z",
     "iopub.status.idle": "2024-05-21T05:42:51.159514Z",
     "shell.execute_reply": "2024-05-21T05:42:51.158540Z",
     "shell.execute_reply.started": "2024-05-21T05:42:51.141876Z"
    },
    "trusted": true
   },
   "outputs": [],
   "source": [
    "content_data.head(1)"
   ]
  },
  {
   "cell_type": "code",
   "execution_count": null,
   "metadata": {
    "execution": {
     "iopub.execute_input": "2024-05-21T05:42:52.986576Z",
     "iopub.status.busy": "2024-05-21T05:42:52.986227Z",
     "iopub.status.idle": "2024-05-21T05:42:52.993178Z",
     "shell.execute_reply": "2024-05-21T05:42:52.992105Z",
     "shell.execute_reply.started": "2024-05-21T05:42:52.986546Z"
    },
    "trusted": true
   },
   "outputs": [],
   "source": [
    "req_content_data = content_data[['isbn', 'title', 'tags']]"
   ]
  },
  {
   "cell_type": "code",
   "execution_count": null,
   "metadata": {
    "execution": {
     "iopub.execute_input": "2024-05-21T05:43:00.596264Z",
     "iopub.status.busy": "2024-05-21T05:43:00.595557Z",
     "iopub.status.idle": "2024-05-21T05:43:00.605058Z",
     "shell.execute_reply": "2024-05-21T05:43:00.604076Z",
     "shell.execute_reply.started": "2024-05-21T05:43:00.596228Z"
    },
    "trusted": true
   },
   "outputs": [],
   "source": [
    "req_content_data['tags'].head(2)"
   ]
  },
  {
   "cell_type": "code",
   "execution_count": null,
   "metadata": {
    "execution": {
     "iopub.execute_input": "2024-05-21T05:43:03.136142Z",
     "iopub.status.busy": "2024-05-21T05:43:03.135748Z",
     "iopub.status.idle": "2024-05-21T05:43:03.142162Z",
     "shell.execute_reply": "2024-05-21T05:43:03.141160Z",
     "shell.execute_reply.started": "2024-05-21T05:43:03.136113Z"
    },
    "trusted": true
   },
   "outputs": [],
   "source": [
    "req_content_data.shape"
   ]
  },
  {
   "cell_type": "code",
   "execution_count": null,
   "metadata": {
    "execution": {
     "iopub.execute_input": "2024-05-21T05:43:06.810199Z",
     "iopub.status.busy": "2024-05-21T05:43:06.809854Z",
     "iopub.status.idle": "2024-05-21T05:43:07.054342Z",
     "shell.execute_reply": "2024-05-21T05:43:07.053587Z",
     "shell.execute_reply.started": "2024-05-21T05:43:06.810172Z"
    },
    "trusted": true
   },
   "outputs": [],
   "source": [
    "# Convert each list to a string and join its elements\n",
    "req_content_data['tags'] = req_content_data['tags'].apply(lambda x: ' '.join(map(str, x)))"
   ]
  },
  {
   "cell_type": "code",
   "execution_count": null,
   "metadata": {
    "execution": {
     "iopub.execute_input": "2024-05-21T05:43:09.256947Z",
     "iopub.status.busy": "2024-05-21T05:43:09.256186Z",
     "iopub.status.idle": "2024-05-21T05:43:09.266394Z",
     "shell.execute_reply": "2024-05-21T05:43:09.265509Z",
     "shell.execute_reply.started": "2024-05-21T05:43:09.256917Z"
    },
    "trusted": true
   },
   "outputs": [],
   "source": [
    "req_content_data.head(1)"
   ]
  },
  {
   "cell_type": "code",
   "execution_count": null,
   "metadata": {
    "execution": {
     "iopub.execute_input": "2024-05-21T05:43:12.488170Z",
     "iopub.status.busy": "2024-05-21T05:43:12.487840Z",
     "iopub.status.idle": "2024-05-21T05:43:12.512656Z",
     "shell.execute_reply": "2024-05-21T05:43:12.511772Z",
     "shell.execute_reply.started": "2024-05-21T05:43:12.488144Z"
    },
    "trusted": true
   },
   "outputs": [],
   "source": [
    "req_content_data['content'] = req_content_data['title'] + \" \" + req_content_data['tags']"
   ]
  },
  {
   "cell_type": "code",
   "execution_count": null,
   "metadata": {
    "execution": {
     "iopub.execute_input": "2024-05-21T05:43:15.238276Z",
     "iopub.status.busy": "2024-05-21T05:43:15.237698Z",
     "iopub.status.idle": "2024-05-21T05:43:15.244271Z",
     "shell.execute_reply": "2024-05-21T05:43:15.242494Z",
     "shell.execute_reply.started": "2024-05-21T05:43:15.238240Z"
    },
    "trusted": true
   },
   "outputs": [],
   "source": [
    "req_content_data.reset_index(drop=True, inplace=True)"
   ]
  },
  {
   "cell_type": "code",
   "execution_count": null,
   "metadata": {
    "execution": {
     "iopub.execute_input": "2024-05-21T05:43:18.238316Z",
     "iopub.status.busy": "2024-05-21T05:43:18.237945Z",
     "iopub.status.idle": "2024-05-21T05:43:18.244560Z",
     "shell.execute_reply": "2024-05-21T05:43:18.243435Z",
     "shell.execute_reply.started": "2024-05-21T05:43:18.238285Z"
    },
    "trusted": true
   },
   "outputs": [],
   "source": [
    "req_content_data.shape"
   ]
  },
  {
   "cell_type": "code",
   "execution_count": null,
   "metadata": {
    "execution": {
     "iopub.execute_input": "2024-05-21T05:43:20.176139Z",
     "iopub.status.busy": "2024-05-21T05:43:20.175376Z",
     "iopub.status.idle": "2024-05-21T05:43:20.181271Z",
     "shell.execute_reply": "2024-05-21T05:43:20.180333Z",
     "shell.execute_reply.started": "2024-05-21T05:43:20.176106Z"
    },
    "trusted": true
   },
   "outputs": [],
   "source": [
    "import numpy as np"
   ]
  },
  {
   "cell_type": "code",
   "execution_count": null,
   "metadata": {
    "execution": {
     "iopub.execute_input": "2024-05-21T05:43:22.543571Z",
     "iopub.status.busy": "2024-05-21T05:43:22.543212Z",
     "iopub.status.idle": "2024-05-21T05:43:23.285234Z",
     "shell.execute_reply": "2024-05-21T05:43:23.284212Z",
     "shell.execute_reply.started": "2024-05-21T05:43:22.543541Z"
    },
    "trusted": true
   },
   "outputs": [],
   "source": [
    "from sklearn.feature_extraction.text import TfidfVectorizer\n",
    "from sklearn.metrics.pairwise import linear_kernel"
   ]
  },
  {
   "cell_type": "code",
   "execution_count": null,
   "metadata": {
    "execution": {
     "iopub.execute_input": "2024-05-21T05:43:24.467500Z",
     "iopub.status.busy": "2024-05-21T05:43:24.466640Z",
     "iopub.status.idle": "2024-05-21T05:43:27.021399Z",
     "shell.execute_reply": "2024-05-21T05:43:27.020475Z",
     "shell.execute_reply.started": "2024-05-21T05:43:24.467463Z"
    },
    "trusted": true
   },
   "outputs": [],
   "source": [
    "# Use TF-IDF vectorizer to convert content into a matrix of TF-IDF features\n",
    "tfidf_vectorizer = TfidfVectorizer()\n",
    "content_matrix = tfidf_vectorizer.fit_transform(req_content_data['content'])"
   ]
  },
  {
   "cell_type": "code",
   "execution_count": null,
   "metadata": {
    "execution": {
     "iopub.execute_input": "2024-05-21T05:43:30.270161Z",
     "iopub.status.busy": "2024-05-21T05:43:30.269231Z",
     "iopub.status.idle": "2024-05-21T05:43:30.276880Z",
     "shell.execute_reply": "2024-05-21T05:43:30.275848Z",
     "shell.execute_reply.started": "2024-05-21T05:43:30.270120Z"
    },
    "trusted": true
   },
   "outputs": [],
   "source": [
    "content_matrix"
   ]
  },
  {
   "cell_type": "code",
   "execution_count": null,
   "metadata": {
    "execution": {
     "iopub.execute_input": "2024-05-21T05:43:33.002648Z",
     "iopub.status.busy": "2024-05-21T05:43:33.002294Z",
     "iopub.status.idle": "2024-05-21T05:43:46.280332Z",
     "shell.execute_reply": "2024-05-21T05:43:46.279538Z",
     "shell.execute_reply.started": "2024-05-21T05:43:33.002619Z"
    },
    "trusted": true
   },
   "outputs": [],
   "source": [
    "content_similarity = linear_kernel(content_matrix, content_matrix)"
   ]
  },
  {
   "cell_type": "code",
   "execution_count": null,
   "metadata": {
    "execution": {
     "iopub.execute_input": "2024-05-10T22:25:21.963471Z",
     "iopub.status.busy": "2024-05-10T22:25:21.962563Z",
     "iopub.status.idle": "2024-05-10T22:25:21.972149Z",
     "shell.execute_reply": "2024-05-10T22:25:21.971124Z",
     "shell.execute_reply.started": "2024-05-10T22:25:21.963424Z"
    },
    "trusted": true
   },
   "outputs": [],
   "source": [
    "content_similarity"
   ]
  },
  {
   "cell_type": "code",
   "execution_count": null,
   "metadata": {
    "execution": {
     "iopub.execute_input": "2024-05-10T22:16:10.340376Z",
     "iopub.status.busy": "2024-05-10T22:16:10.339754Z",
     "iopub.status.idle": "2024-05-10T22:16:10.345763Z",
     "shell.execute_reply": "2024-05-10T22:16:10.344934Z",
     "shell.execute_reply.started": "2024-05-10T22:16:10.340334Z"
    },
    "trusted": true
   },
   "outputs": [],
   "source": [
    "def get_content_based_recommendations(title, top_n):\n",
    "    index = req_content_data[req_content_data['title'] == title].index[0]\n",
    "    similarity_scores = content_similarity[index]\n",
    "    similar_indices = similarity_scores.argsort()[::-1][1:top_n + 1]\n",
    "    recommendations = req_content_data.loc[similar_indices, 'isbn'].values\n",
    "    return recommendations"
   ]
  },
  {
   "cell_type": "code",
   "execution_count": null,
   "metadata": {
    "execution": {
     "iopub.execute_input": "2024-05-10T22:16:10.347266Z",
     "iopub.status.busy": "2024-05-10T22:16:10.346975Z",
     "iopub.status.idle": "2024-05-10T22:16:10.362889Z",
     "shell.execute_reply": "2024-05-10T22:16:10.361958Z",
     "shell.execute_reply.started": "2024-05-10T22:16:10.347243Z"
    },
    "trusted": true
   },
   "outputs": [],
   "source": [
    "req_content_data.head(10)"
   ]
  },
  {
   "cell_type": "code",
   "execution_count": null,
   "metadata": {
    "execution": {
     "iopub.execute_input": "2024-05-10T22:16:10.364356Z",
     "iopub.status.busy": "2024-05-10T22:16:10.364022Z",
     "iopub.status.idle": "2024-05-10T22:16:10.376605Z",
     "shell.execute_reply": "2024-05-10T22:16:10.375591Z",
     "shell.execute_reply.started": "2024-05-10T22:16:10.364333Z"
    },
    "trusted": true
   },
   "outputs": [],
   "source": [
    "req_content_data[req_content_data['title'] == 'The Dragon Reborn'].index"
   ]
  },
  {
   "cell_type": "code",
   "execution_count": null,
   "metadata": {
    "execution": {
     "iopub.execute_input": "2024-05-10T22:16:10.378466Z",
     "iopub.status.busy": "2024-05-10T22:16:10.377796Z",
     "iopub.status.idle": "2024-05-10T22:16:10.388808Z",
     "shell.execute_reply": "2024-05-10T22:16:10.387907Z",
     "shell.execute_reply.started": "2024-05-10T22:16:10.378440Z"
    },
    "trusted": true
   },
   "outputs": [],
   "source": [
    "rec = get_content_based_recommendations('The Dragon Reborn', 5)\n",
    "print(rec)"
   ]
  },
  {
   "cell_type": "code",
   "execution_count": null,
   "metadata": {
    "execution": {
     "iopub.execute_input": "2024-05-10T22:16:10.390172Z",
     "iopub.status.busy": "2024-05-10T22:16:10.389825Z",
     "iopub.status.idle": "2024-05-10T22:16:10.397265Z",
     "shell.execute_reply": "2024-05-10T22:16:10.396406Z",
     "shell.execute_reply.started": "2024-05-10T22:16:10.390139Z"
    },
    "trusted": true
   },
   "outputs": [],
   "source": [
    "updated_books['genres'].iloc[903]"
   ]
  },
  {
   "cell_type": "code",
   "execution_count": null,
   "metadata": {
    "execution": {
     "iopub.execute_input": "2024-05-10T22:16:10.399317Z",
     "iopub.status.busy": "2024-05-10T22:16:10.398302Z",
     "iopub.status.idle": "2024-05-10T22:16:10.420940Z",
     "shell.execute_reply": "2024-05-10T22:16:10.420100Z",
     "shell.execute_reply.started": "2024-05-10T22:16:10.399293Z"
    },
    "trusted": true
   },
   "outputs": [],
   "source": [
    " updated_books[updated_books['isbn'].isin(rec)]"
   ]
  },
  {
   "cell_type": "code",
   "execution_count": null,
   "metadata": {
    "execution": {
     "iopub.execute_input": "2024-05-10T22:16:10.424267Z",
     "iopub.status.busy": "2024-05-10T22:16:10.422024Z",
     "iopub.status.idle": "2024-05-10T22:16:10.429823Z",
     "shell.execute_reply": "2024-05-10T22:16:10.429114Z",
     "shell.execute_reply.started": "2024-05-10T22:16:10.424241Z"
    },
    "trusted": true
   },
   "outputs": [],
   "source": [
    "updated_books['genres'].iloc[2510]"
   ]
  },
  {
   "cell_type": "code",
   "execution_count": null,
   "metadata": {
    "execution": {
     "iopub.execute_input": "2024-05-10T22:16:10.431101Z",
     "iopub.status.busy": "2024-05-10T22:16:10.430825Z",
     "iopub.status.idle": "2024-05-10T22:16:10.437503Z",
     "shell.execute_reply": "2024-05-10T22:16:10.436662Z",
     "shell.execute_reply.started": "2024-05-10T22:16:10.431057Z"
    },
    "trusted": true
   },
   "outputs": [],
   "source": [
    "sent1 = req_content_data['content'].iloc[903]"
   ]
  },
  {
   "cell_type": "code",
   "execution_count": null,
   "metadata": {
    "execution": {
     "iopub.execute_input": "2024-05-10T22:16:10.438872Z",
     "iopub.status.busy": "2024-05-10T22:16:10.438613Z",
     "iopub.status.idle": "2024-05-10T22:16:10.445855Z",
     "shell.execute_reply": "2024-05-10T22:16:10.445031Z",
     "shell.execute_reply.started": "2024-05-10T22:16:10.438851Z"
    },
    "trusted": true
   },
   "outputs": [],
   "source": [
    "sent2 = req_content_data['content'].iloc[1051]"
   ]
  },
  {
   "cell_type": "code",
   "execution_count": null,
   "metadata": {
    "execution": {
     "iopub.execute_input": "2024-05-10T22:16:10.447299Z",
     "iopub.status.busy": "2024-05-10T22:16:10.446961Z",
     "iopub.status.idle": "2024-05-10T22:16:10.455339Z",
     "shell.execute_reply": "2024-05-10T22:16:10.454441Z",
     "shell.execute_reply.started": "2024-05-10T22:16:10.447276Z"
    },
    "trusted": true
   },
   "outputs": [],
   "source": [
    "# Tokenize sentences into words\n",
    "sent1_words = set(sent1.lower().split())\n",
    "sent2_words = set(sent2.lower().split())\n",
    "\n",
    "# Find common words\n",
    "common_words = sent1_words.intersection(sent2_words)\n",
    "\n",
    "# Print common words\n",
    "print(common_words)\n"
   ]
  },
  {
   "cell_type": "code",
   "execution_count": null,
   "metadata": {
    "execution": {
     "iopub.execute_input": "2024-05-10T22:16:10.456726Z",
     "iopub.status.busy": "2024-05-10T22:16:10.456442Z",
     "iopub.status.idle": "2024-05-10T22:16:10.469023Z",
     "shell.execute_reply": "2024-05-10T22:16:10.468041Z",
     "shell.execute_reply.started": "2024-05-10T22:16:10.456704Z"
    },
    "trusted": true
   },
   "outputs": [],
   "source": [
    "req_content_data['isbn'].nunique()"
   ]
  },
  {
   "cell_type": "code",
   "execution_count": null,
   "metadata": {
    "execution": {
     "iopub.execute_input": "2024-05-10T22:16:10.470493Z",
     "iopub.status.busy": "2024-05-10T22:16:10.470109Z",
     "iopub.status.idle": "2024-05-10T22:16:10.557950Z",
     "shell.execute_reply": "2024-05-10T22:16:10.557094Z",
     "shell.execute_reply.started": "2024-05-10T22:16:10.470463Z"
    },
    "trusted": true
   },
   "outputs": [],
   "source": [
    "req_content_data.nunique()"
   ]
  },
  {
   "cell_type": "code",
   "execution_count": null,
   "metadata": {
    "execution": {
     "iopub.execute_input": "2024-05-10T22:16:10.559888Z",
     "iopub.status.busy": "2024-05-10T22:16:10.559611Z",
     "iopub.status.idle": "2024-05-10T22:16:10.565628Z",
     "shell.execute_reply": "2024-05-10T22:16:10.564832Z",
     "shell.execute_reply.started": "2024-05-10T22:16:10.559865Z"
    },
    "trusted": true
   },
   "outputs": [],
   "source": [
    "# ----------------------------------------------------------------------------------------------------------------------------"
   ]
  },
  {
   "cell_type": "code",
   "execution_count": null,
   "metadata": {
    "execution": {
     "iopub.execute_input": "2024-05-21T05:45:19.688932Z",
     "iopub.status.busy": "2024-05-21T05:45:19.688196Z",
     "iopub.status.idle": "2024-05-21T05:45:19.695064Z",
     "shell.execute_reply": "2024-05-21T05:45:19.694169Z",
     "shell.execute_reply.started": "2024-05-21T05:45:19.688900Z"
    },
    "trusted": true
   },
   "outputs": [],
   "source": [
    "req_updated_books.columns"
   ]
  },
  {
   "cell_type": "code",
   "execution_count": null,
   "metadata": {
    "execution": {
     "iopub.execute_input": "2024-05-21T05:45:21.223692Z",
     "iopub.status.busy": "2024-05-21T05:45:21.222650Z",
     "iopub.status.idle": "2024-05-21T05:45:21.230173Z",
     "shell.execute_reply": "2024-05-21T05:45:21.229314Z",
     "shell.execute_reply.started": "2024-05-21T05:45:21.223631Z"
    },
    "trusted": true
   },
   "outputs": [],
   "source": [
    "# COLLABORATIVE BASE\n",
    "collab_data = req_updated_books[['isbn', 'rating']]"
   ]
  },
  {
   "cell_type": "code",
   "execution_count": null,
   "metadata": {
    "execution": {
     "iopub.execute_input": "2024-05-21T05:45:23.632517Z",
     "iopub.status.busy": "2024-05-21T05:45:23.631857Z",
     "iopub.status.idle": "2024-05-21T05:45:23.642299Z",
     "shell.execute_reply": "2024-05-21T05:45:23.641305Z",
     "shell.execute_reply.started": "2024-05-21T05:45:23.632482Z"
    },
    "trusted": true
   },
   "outputs": [],
   "source": [
    "collab_data.head(2)"
   ]
  },
  {
   "cell_type": "code",
   "execution_count": null,
   "metadata": {
    "execution": {
     "iopub.execute_input": "2024-05-21T05:45:25.275402Z",
     "iopub.status.busy": "2024-05-21T05:45:25.274369Z",
     "iopub.status.idle": "2024-05-21T05:45:25.281145Z",
     "shell.execute_reply": "2024-05-21T05:45:25.280059Z",
     "shell.execute_reply.started": "2024-05-21T05:45:25.275364Z"
    },
    "trusted": true
   },
   "outputs": [],
   "source": [
    "# ADDING USER ID COLUMN\n",
    "collab_data['user_id'] = range(len(collab_data))"
   ]
  },
  {
   "cell_type": "code",
   "execution_count": null,
   "metadata": {
    "execution": {
     "iopub.execute_input": "2024-05-21T05:45:27.232408Z",
     "iopub.status.busy": "2024-05-21T05:45:27.232072Z",
     "iopub.status.idle": "2024-05-21T05:45:27.242448Z",
     "shell.execute_reply": "2024-05-21T05:45:27.241501Z",
     "shell.execute_reply.started": "2024-05-21T05:45:27.232382Z"
    },
    "trusted": true
   },
   "outputs": [],
   "source": [
    "collab_data.head(2)"
   ]
  },
  {
   "cell_type": "code",
   "execution_count": null,
   "metadata": {
    "execution": {
     "iopub.execute_input": "2024-05-21T05:45:28.752845Z",
     "iopub.status.busy": "2024-05-21T05:45:28.751891Z",
     "iopub.status.idle": "2024-05-21T05:45:30.317364Z",
     "shell.execute_reply": "2024-05-21T05:45:30.316353Z",
     "shell.execute_reply.started": "2024-05-21T05:45:28.752779Z"
    },
    "trusted": true
   },
   "outputs": [],
   "source": [
    "collab_pivot = collab_data.pivot_table(columns='user_id', index='isbn', values= 'rating')"
   ]
  },
  {
   "cell_type": "code",
   "execution_count": null,
   "metadata": {
    "execution": {
     "iopub.execute_input": "2024-05-21T05:45:36.142540Z",
     "iopub.status.busy": "2024-05-21T05:45:36.141898Z",
     "iopub.status.idle": "2024-05-21T05:45:36.175130Z",
     "shell.execute_reply": "2024-05-21T05:45:36.174116Z",
     "shell.execute_reply.started": "2024-05-21T05:45:36.142511Z"
    },
    "trusted": true
   },
   "outputs": [],
   "source": [
    "collab_pivot"
   ]
  },
  {
   "cell_type": "code",
   "execution_count": null,
   "metadata": {
    "execution": {
     "iopub.execute_input": "2024-05-10T22:16:12.164643Z",
     "iopub.status.busy": "2024-05-10T22:16:12.164383Z",
     "iopub.status.idle": "2024-05-10T22:16:12.171915Z",
     "shell.execute_reply": "2024-05-10T22:16:12.170942Z",
     "shell.execute_reply.started": "2024-05-10T22:16:12.164621Z"
    },
    "trusted": true
   },
   "outputs": [],
   "source": [
    "collab_data['rating'].head(4)"
   ]
  },
  {
   "cell_type": "code",
   "execution_count": null,
   "metadata": {
    "execution": {
     "iopub.execute_input": "2024-05-21T05:46:03.097577Z",
     "iopub.status.busy": "2024-05-21T05:46:03.096628Z",
     "iopub.status.idle": "2024-05-21T05:46:03.110349Z",
     "shell.execute_reply": "2024-05-21T05:46:03.109283Z",
     "shell.execute_reply.started": "2024-05-21T05:46:03.097543Z"
    },
    "trusted": true
   },
   "outputs": [],
   "source": [
    "collab_data"
   ]
  },
  {
   "cell_type": "code",
   "execution_count": null,
   "metadata": {
    "execution": {
     "iopub.execute_input": "2024-05-21T05:46:07.716104Z",
     "iopub.status.busy": "2024-05-21T05:46:07.715410Z",
     "iopub.status.idle": "2024-05-21T05:46:07.721784Z",
     "shell.execute_reply": "2024-05-21T05:46:07.720808Z",
     "shell.execute_reply.started": "2024-05-21T05:46:07.716070Z"
    },
    "trusted": true
   },
   "outputs": [],
   "source": [
    "collab_pivot.shape"
   ]
  },
  {
   "cell_type": "code",
   "execution_count": null,
   "metadata": {
    "execution": {
     "iopub.execute_input": "2024-05-21T05:46:09.525628Z",
     "iopub.status.busy": "2024-05-21T05:46:09.524706Z",
     "iopub.status.idle": "2024-05-21T05:46:10.899841Z",
     "shell.execute_reply": "2024-05-21T05:46:10.898849Z",
     "shell.execute_reply.started": "2024-05-21T05:46:09.525587Z"
    },
    "trusted": true
   },
   "outputs": [],
   "source": [
    "collab_pivot.fillna(0, inplace=True)"
   ]
  },
  {
   "cell_type": "code",
   "execution_count": null,
   "metadata": {
    "execution": {
     "iopub.execute_input": "2024-05-21T05:46:13.009922Z",
     "iopub.status.busy": "2024-05-21T05:46:13.009275Z",
     "iopub.status.idle": "2024-05-21T05:46:13.015548Z",
     "shell.execute_reply": "2024-05-21T05:46:13.014631Z",
     "shell.execute_reply.started": "2024-05-21T05:46:13.009887Z"
    },
    "trusted": true
   },
   "outputs": [],
   "source": [
    "collab_pivot.shape"
   ]
  },
  {
   "cell_type": "code",
   "execution_count": null,
   "metadata": {
    "execution": {
     "iopub.execute_input": "2024-05-21T05:46:14.272343Z",
     "iopub.status.busy": "2024-05-21T05:46:14.271973Z",
     "iopub.status.idle": "2024-05-21T05:46:14.276732Z",
     "shell.execute_reply": "2024-05-21T05:46:14.275641Z",
     "shell.execute_reply.started": "2024-05-21T05:46:14.272313Z"
    },
    "trusted": true
   },
   "outputs": [],
   "source": [
    "import random"
   ]
  },
  {
   "cell_type": "code",
   "execution_count": null,
   "metadata": {
    "execution": {
     "iopub.execute_input": "2024-05-21T05:46:18.992547Z",
     "iopub.status.busy": "2024-05-21T05:46:18.992180Z",
     "iopub.status.idle": "2024-05-21T05:46:19.000233Z",
     "shell.execute_reply": "2024-05-21T05:46:18.999316Z",
     "shell.execute_reply.started": "2024-05-21T05:46:18.992520Z"
    },
    "trusted": true
   },
   "outputs": [],
   "source": [
    "# FUNCTIONS\n",
    "def random_number_rating():\n",
    "    return round(random.uniform(1, 5), 2)\n",
    "def random_number_iterations():\n",
    "    return random.randint(100, 1000)\n",
    "def random_number_index():\n",
    "    return random.randint(0, 11299)\n"
   ]
  },
  {
   "cell_type": "code",
   "execution_count": null,
   "metadata": {
    "execution": {
     "iopub.execute_input": "2024-05-10T22:16:13.590908Z",
     "iopub.status.busy": "2024-05-10T22:16:13.590134Z",
     "iopub.status.idle": "2024-05-10T22:16:13.639831Z",
     "shell.execute_reply": "2024-05-10T22:16:13.638964Z",
     "shell.execute_reply.started": "2024-05-10T22:16:13.590868Z"
    },
    "trusted": true
   },
   "outputs": [],
   "source": [
    "collab_pivot"
   ]
  },
  {
   "cell_type": "code",
   "execution_count": null,
   "metadata": {
    "execution": {
     "iopub.execute_input": "2024-05-10T22:16:13.641616Z",
     "iopub.status.busy": "2024-05-10T22:16:13.640938Z",
     "iopub.status.idle": "2024-05-10T22:16:13.645600Z",
     "shell.execute_reply": "2024-05-10T22:16:13.644661Z",
     "shell.execute_reply.started": "2024-05-10T22:16:13.641585Z"
    },
    "trusted": true
   },
   "outputs": [],
   "source": [
    "# # FILLING THE RATINGS MATRIX \n",
    "# def pivot_table(startRange, endRange):\n",
    "#     for rowIndex in range(startRange, endRange):\n",
    "#         numOfIterations = random_number_iterations()\n",
    "#         for _ in range(numOfIterations):\n",
    "#             columnNo = random_number_index()\n",
    "#             rating = random_number_rating()\n",
    "#             collab_pivot.iloc[rowIndex, columnNo] = rating"
   ]
  },
  {
   "cell_type": "code",
   "execution_count": null,
   "metadata": {
    "execution": {
     "iopub.execute_input": "2024-05-10T22:16:13.646935Z",
     "iopub.status.busy": "2024-05-10T22:16:13.646672Z",
     "iopub.status.idle": "2024-05-10T22:18:45.966736Z",
     "shell.execute_reply": "2024-05-10T22:18:45.965548Z",
     "shell.execute_reply.started": "2024-05-10T22:16:13.646910Z"
    },
    "trusted": true
   },
   "outputs": [],
   "source": [
    "import random\n",
    "import multiprocessing\n",
    "\n",
    "# Number of rows in the DataFrame\n",
    "num_rows = 11300  # Adjust as needed\n",
    "\n",
    "# Function to fill ratings matrix for a range of rows\n",
    "def fill_ratings(start_range, end_range):\n",
    "    for row_index in range(start_range, end_range):\n",
    "        num_iterations = random_number_iterations()\n",
    "        for _ in range(num_iterations):\n",
    "            column_no = random_number_index()\n",
    "            rating = random_number_rating()\n",
    "            collab_pivot.iloc[row_index, column_no] = rating\n",
    "\n",
    "# Define the number of processes to use\n",
    "num_processes = multiprocessing.cpu_count()\n",
    "\n",
    "# Divide the task among multiple processes\n",
    "rows_per_process = num_rows // num_processes\n",
    "processes = []\n",
    "for i in range(num_processes):\n",
    "    start_range = i * rows_per_process\n",
    "    end_range = (i + 1) * rows_per_process if i < num_processes - 1 else num_rows\n",
    "    process = multiprocessing.Process(target=fill_ratings, args=(start_range, end_range))\n",
    "    processes.append(process)\n",
    "\n",
    "# Start the processes\n",
    "for process in processes:\n",
    "    process.start()\n",
    "\n",
    "# Wait for all processes to finish\n",
    "for process in processes:\n",
    "    process.join()\n",
    "\n",
    "# Print the resulting DataFrame\n",
    "print(collab_pivot)\n"
   ]
  },
  {
   "cell_type": "code",
   "execution_count": null,
   "metadata": {
    "trusted": true
   },
   "outputs": [],
   "source": []
  },
  {
   "cell_type": "code",
   "execution_count": null,
   "metadata": {
    "execution": {
     "iopub.execute_input": "2024-05-10T22:18:45.969081Z",
     "iopub.status.busy": "2024-05-10T22:18:45.968417Z",
     "iopub.status.idle": "2024-05-10T22:18:45.973928Z",
     "shell.execute_reply": "2024-05-10T22:18:45.973042Z",
     "shell.execute_reply.started": "2024-05-10T22:18:45.969021Z"
    },
    "trusted": true
   },
   "outputs": [],
   "source": [
    "from scipy.sparse import csr_matrix"
   ]
  },
  {
   "cell_type": "code",
   "execution_count": null,
   "metadata": {
    "execution": {
     "iopub.execute_input": "2024-05-10T22:18:45.975296Z",
     "iopub.status.busy": "2024-05-10T22:18:45.974999Z",
     "iopub.status.idle": "2024-05-10T22:18:47.490553Z",
     "shell.execute_reply": "2024-05-10T22:18:47.489590Z",
     "shell.execute_reply.started": "2024-05-10T22:18:45.975273Z"
    },
    "trusted": true
   },
   "outputs": [],
   "source": [
    "collab_sparse = csr_matrix(collab_pivot)"
   ]
  },
  {
   "cell_type": "code",
   "execution_count": null,
   "metadata": {
    "execution": {
     "iopub.execute_input": "2024-05-10T22:18:47.492554Z",
     "iopub.status.busy": "2024-05-10T22:18:47.491623Z",
     "iopub.status.idle": "2024-05-10T22:18:47.499211Z",
     "shell.execute_reply": "2024-05-10T22:18:47.498128Z",
     "shell.execute_reply.started": "2024-05-10T22:18:47.492527Z"
    },
    "trusted": true
   },
   "outputs": [],
   "source": [
    "collab_sparse"
   ]
  },
  {
   "cell_type": "code",
   "execution_count": null,
   "metadata": {
    "execution": {
     "iopub.execute_input": "2024-05-10T22:18:47.501199Z",
     "iopub.status.busy": "2024-05-10T22:18:47.500606Z",
     "iopub.status.idle": "2024-05-10T22:18:47.508434Z",
     "shell.execute_reply": "2024-05-10T22:18:47.507228Z",
     "shell.execute_reply.started": "2024-05-10T22:18:47.501164Z"
    },
    "trusted": true
   },
   "outputs": [],
   "source": [
    "# Now import our clustering algoritm which is Nearest Neighbors this is an unsupervised ml algo\n",
    "from sklearn.neighbors import NearestNeighbors\n",
    "model = NearestNeighbors(algorithm= 'brute')"
   ]
  },
  {
   "cell_type": "code",
   "execution_count": null,
   "metadata": {
    "execution": {
     "iopub.execute_input": "2024-05-10T22:18:47.510126Z",
     "iopub.status.busy": "2024-05-10T22:18:47.509779Z",
     "iopub.status.idle": "2024-05-10T22:18:47.524002Z",
     "shell.execute_reply": "2024-05-10T22:18:47.522964Z",
     "shell.execute_reply.started": "2024-05-10T22:18:47.510094Z"
    },
    "trusted": true
   },
   "outputs": [],
   "source": [
    "model.fit(collab_sparse)"
   ]
  },
  {
   "cell_type": "code",
   "execution_count": null,
   "metadata": {
    "execution": {
     "iopub.execute_input": "2024-05-10T22:18:47.525519Z",
     "iopub.status.busy": "2024-05-10T22:18:47.525211Z",
     "iopub.status.idle": "2024-05-10T22:18:47.534756Z",
     "shell.execute_reply": "2024-05-10T22:18:47.533740Z",
     "shell.execute_reply.started": "2024-05-10T22:18:47.525492Z"
    },
    "trusted": true
   },
   "outputs": [],
   "source": [
    "collab_data['rating'].unique()"
   ]
  },
  {
   "cell_type": "code",
   "execution_count": null,
   "metadata": {
    "execution": {
     "iopub.execute_input": "2024-05-10T22:18:47.536745Z",
     "iopub.status.busy": "2024-05-10T22:18:47.536441Z",
     "iopub.status.idle": "2024-05-10T22:18:47.546174Z",
     "shell.execute_reply": "2024-05-10T22:18:47.545288Z",
     "shell.execute_reply.started": "2024-05-10T22:18:47.536719Z"
    },
    "trusted": true
   },
   "outputs": [],
   "source": [
    "# ----> CHECK THIS TYPE OF CASES WHERE INDEX GO OUT OF BOUND <------\n",
    "collab_data[collab_data['rating'] == 3].index\n"
   ]
  },
  {
   "cell_type": "code",
   "execution_count": null,
   "metadata": {
    "execution": {
     "iopub.execute_input": "2024-05-10T22:18:47.547606Z",
     "iopub.status.busy": "2024-05-10T22:18:47.547206Z",
     "iopub.status.idle": "2024-05-10T22:18:47.555702Z",
     "shell.execute_reply": "2024-05-10T22:18:47.554861Z",
     "shell.execute_reply.started": "2024-05-10T22:18:47.547579Z"
    },
    "trusted": true
   },
   "outputs": [],
   "source": [
    "collab_data[collab_data['rating'] == 4.73].index"
   ]
  },
  {
   "cell_type": "code",
   "execution_count": null,
   "metadata": {
    "execution": {
     "iopub.execute_input": "2024-05-10T22:18:47.557285Z",
     "iopub.status.busy": "2024-05-10T22:18:47.556960Z",
     "iopub.status.idle": "2024-05-10T22:18:47.565417Z",
     "shell.execute_reply": "2024-05-10T22:18:47.564482Z",
     "shell.execute_reply.started": "2024-05-10T22:18:47.557258Z"
    },
    "trusted": true
   },
   "outputs": [],
   "source": [
    "distance, suggestion = model.kneighbors(collab_pivot.iloc[2231,:].values.reshape(1,-1), n_neighbors=6 )"
   ]
  },
  {
   "cell_type": "code",
   "execution_count": null,
   "metadata": {
    "execution": {
     "iopub.execute_input": "2024-05-10T22:18:47.567016Z",
     "iopub.status.busy": "2024-05-10T22:18:47.566639Z",
     "iopub.status.idle": "2024-05-10T22:18:47.574960Z",
     "shell.execute_reply": "2024-05-10T22:18:47.574116Z",
     "shell.execute_reply.started": "2024-05-10T22:18:47.566985Z"
    },
    "trusted": true
   },
   "outputs": [],
   "source": [
    "distance"
   ]
  },
  {
   "cell_type": "code",
   "execution_count": null,
   "metadata": {
    "execution": {
     "iopub.execute_input": "2024-05-10T22:18:47.576393Z",
     "iopub.status.busy": "2024-05-10T22:18:47.576097Z",
     "iopub.status.idle": "2024-05-10T22:18:47.584492Z",
     "shell.execute_reply": "2024-05-10T22:18:47.583640Z",
     "shell.execute_reply.started": "2024-05-10T22:18:47.576357Z"
    },
    "trusted": true
   },
   "outputs": [],
   "source": [
    "suggestion"
   ]
  },
  {
   "cell_type": "code",
   "execution_count": null,
   "metadata": {
    "execution": {
     "iopub.execute_input": "2024-05-10T22:18:47.585683Z",
     "iopub.status.busy": "2024-05-10T22:18:47.585411Z",
     "iopub.status.idle": "2024-05-10T22:18:47.593481Z",
     "shell.execute_reply": "2024-05-10T22:18:47.592602Z",
     "shell.execute_reply.started": "2024-05-10T22:18:47.585661Z"
    },
    "trusted": true
   },
   "outputs": [],
   "source": [
    "for i in range(len(suggestion)):\n",
    "    print(collab_pivot.index[suggestion[i]])"
   ]
  },
  {
   "cell_type": "code",
   "execution_count": null,
   "metadata": {
    "execution": {
     "iopub.execute_input": "2024-05-10T22:18:47.594924Z",
     "iopub.status.busy": "2024-05-10T22:18:47.594665Z",
     "iopub.status.idle": "2024-05-10T22:18:47.603345Z",
     "shell.execute_reply": "2024-05-10T22:18:47.602444Z",
     "shell.execute_reply.started": "2024-05-10T22:18:47.594902Z"
    },
    "trusted": true
   },
   "outputs": [],
   "source": [
    "suggestion[0]"
   ]
  },
  {
   "cell_type": "code",
   "execution_count": null,
   "metadata": {
    "execution": {
     "iopub.execute_input": "2024-05-10T22:18:47.604740Z",
     "iopub.status.busy": "2024-05-10T22:18:47.604393Z",
     "iopub.status.idle": "2024-05-10T22:18:47.612951Z",
     "shell.execute_reply": "2024-05-10T22:18:47.612046Z",
     "shell.execute_reply.started": "2024-05-10T22:18:47.604718Z"
    },
    "scrolled": true,
    "trusted": true
   },
   "outputs": [],
   "source": [
    "for index in suggestion[0]:\n",
    "    print(updated_books['rating'].iloc[index], end='\\n')"
   ]
  },
  {
   "cell_type": "code",
   "execution_count": null,
   "metadata": {
    "execution": {
     "iopub.execute_input": "2024-05-10T22:18:47.614391Z",
     "iopub.status.busy": "2024-05-10T22:18:47.614131Z",
     "iopub.status.idle": "2024-05-10T22:18:47.623905Z",
     "shell.execute_reply": "2024-05-10T22:18:47.623112Z",
     "shell.execute_reply.started": "2024-05-10T22:18:47.614370Z"
    },
    "trusted": true
   },
   "outputs": [],
   "source": [
    "def recommend_book(book_name):\n",
    "    book_id = req_content_data[req_content_data['title'] == book_name].index[0]\n",
    "    distance, suggestion = model.kneighbors(collab_pivot.iloc[book_id,:].values.reshape(1,-1), n_neighbors=6 )\n",
    "    for i in range(len(suggestion)):\n",
    "            books_isbn = collab_pivot.index[suggestion[i]]    \n",
    "            books_titles = req_content_data[req_content_data['isbn'].isin(books_isbn)]\n",
    "            print(books_titles['title'])\n",
    "            for j in books_isbn:\n",
    "                if j == book_name:\n",
    "                    print(f\"You searched '{book_name}'\\n\")\n",
    "                    print(\"The suggestion books are: \\n\")\n",
    "                else:\n",
    "                    print(j)\n",
    "                    \n",
    "                    \n",
    "# def get_content_based_recommendations(title, top_n):\n",
    "#     index = req_content_data[req_content_data['title'] == title].index[0]\n",
    "#     similarity_scores = content_similarity[index]\n",
    "#     similar_indices = similarity_scores.argsort()[::-1][1:top_n + 1]\n",
    "#     recommendations = req_content_data.loc[similar_indices, 'isbn'].values\n",
    "#     return recommendations"
   ]
  },
  {
   "cell_type": "code",
   "execution_count": null,
   "metadata": {
    "execution": {
     "iopub.execute_input": "2024-05-10T22:20:47.481138Z",
     "iopub.status.busy": "2024-05-10T22:20:47.480305Z",
     "iopub.status.idle": "2024-05-10T22:20:47.485166Z",
     "shell.execute_reply": "2024-05-10T22:20:47.484111Z",
     "shell.execute_reply.started": "2024-05-10T22:20:47.481104Z"
    },
    "trusted": true
   },
   "outputs": [],
   "source": [
    "# req_content_data['title'].value_counts()"
   ]
  },
  {
   "cell_type": "code",
   "execution_count": null,
   "metadata": {
    "execution": {
     "iopub.execute_input": "2024-05-10T22:18:47.648697Z",
     "iopub.status.busy": "2024-05-10T22:18:47.648372Z",
     "iopub.status.idle": "2024-05-10T22:18:47.661912Z",
     "shell.execute_reply": "2024-05-10T22:18:47.660977Z",
     "shell.execute_reply.started": "2024-05-10T22:18:47.648669Z"
    },
    "trusted": true
   },
   "outputs": [],
   "source": [
    "book_name = \"Harry Potter and the Order of the Phoenix\"\n",
    "recommend_book(book_name)"
   ]
  },
  {
   "cell_type": "code",
   "execution_count": null,
   "metadata": {
    "execution": {
     "iopub.execute_input": "2024-05-10T22:18:47.663841Z",
     "iopub.status.busy": "2024-05-10T22:18:47.663540Z",
     "iopub.status.idle": "2024-05-10T22:18:47.667670Z",
     "shell.execute_reply": "2024-05-10T22:18:47.666688Z",
     "shell.execute_reply.started": "2024-05-10T22:18:47.663815Z"
    },
    "trusted": true
   },
   "outputs": [],
   "source": [
    "import pickle"
   ]
  },
  {
   "cell_type": "code",
   "execution_count": null,
   "metadata": {
    "execution": {
     "iopub.execute_input": "2024-05-10T23:10:06.603744Z",
     "iopub.status.busy": "2024-05-10T23:10:06.603342Z",
     "iopub.status.idle": "2024-05-10T23:10:06.608655Z",
     "shell.execute_reply": "2024-05-10T23:10:06.607648Z",
     "shell.execute_reply.started": "2024-05-10T23:10:06.603698Z"
    },
    "trusted": true
   },
   "outputs": [],
   "source": [
    "books_names_list = req_updated_books['title'].to_list()"
   ]
  },
  {
   "cell_type": "code",
   "execution_count": null,
   "metadata": {
    "execution": {
     "iopub.execute_input": "2024-05-10T23:10:07.904704Z",
     "iopub.status.busy": "2024-05-10T23:10:07.904328Z",
     "iopub.status.idle": "2024-05-10T23:10:07.927115Z",
     "shell.execute_reply": "2024-05-10T23:10:07.926095Z",
     "shell.execute_reply.started": "2024-05-10T23:10:07.904673Z"
    },
    "trusted": true
   },
   "outputs": [],
   "source": [
    "books_names_list"
   ]
  },
  {
   "cell_type": "code",
   "execution_count": null,
   "metadata": {
    "execution": {
     "iopub.execute_input": "2024-05-10T22:32:18.631359Z",
     "iopub.status.busy": "2024-05-10T22:32:18.630594Z",
     "iopub.status.idle": "2024-05-10T22:32:18.645376Z",
     "shell.execute_reply": "2024-05-10T22:32:18.641074Z",
     "shell.execute_reply.started": "2024-05-10T22:32:18.631314Z"
    },
    "trusted": true
   },
   "outputs": [],
   "source": [
    "books_names.isnull().value_counts()"
   ]
  },
  {
   "cell_type": "code",
   "execution_count": null,
   "metadata": {
    "execution": {
     "iopub.execute_input": "2024-05-10T22:30:59.440412Z",
     "iopub.status.busy": "2024-05-10T22:30:59.439996Z",
     "iopub.status.idle": "2024-05-10T22:30:59.446131Z",
     "shell.execute_reply": "2024-05-10T22:30:59.445045Z",
     "shell.execute_reply.started": "2024-05-10T22:30:59.440383Z"
    },
    "trusted": true
   },
   "outputs": [],
   "source": [
    "pickle.dump(model, open('/kaggle/working/model.pkl', 'wb'))"
   ]
  },
  {
   "cell_type": "code",
   "execution_count": null,
   "metadata": {
    "execution": {
     "iopub.execute_input": "2024-05-10T22:34:15.972748Z",
     "iopub.status.busy": "2024-05-10T22:34:15.971854Z",
     "iopub.status.idle": "2024-05-10T22:34:17.638673Z",
     "shell.execute_reply": "2024-05-10T22:34:17.637746Z",
     "shell.execute_reply.started": "2024-05-10T22:34:15.972715Z"
    },
    "trusted": true
   },
   "outputs": [],
   "source": [
    "    pickle.dump(content_similarity, open('/kaggle/working/content_similarity.pkl', 'wb'))"
   ]
  },
  {
   "cell_type": "code",
   "execution_count": null,
   "metadata": {
    "execution": {
     "iopub.execute_input": "2024-05-10T22:22:59.591200Z",
     "iopub.status.busy": "2024-05-10T22:22:59.590409Z",
     "iopub.status.idle": "2024-05-10T22:23:00.168127Z",
     "shell.execute_reply": "2024-05-10T22:23:00.167308Z",
     "shell.execute_reply.started": "2024-05-10T22:22:59.591165Z"
    },
    "trusted": true
   },
   "outputs": [],
   "source": [
    "pickle.dump(req_updated_books, open('/kaggle/working/req_updated_books.pkl', 'wb'))"
   ]
  },
  {
   "cell_type": "code",
   "execution_count": null,
   "metadata": {
    "execution": {
     "iopub.execute_input": "2024-05-10T22:34:20.373376Z",
     "iopub.status.busy": "2024-05-10T22:34:20.372646Z",
     "iopub.status.idle": "2024-05-10T22:34:22.034290Z",
     "shell.execute_reply": "2024-05-10T22:34:22.033466Z",
     "shell.execute_reply.started": "2024-05-10T22:34:20.373343Z"
    },
    "trusted": true
   },
   "outputs": [],
   "source": [
    "pickle.dump(req_content_data, open('/kaggle/working/req_content_data.pkl', 'wb'))\n",
    "pickle.dump(collab_data, open('/kaggle/working/collab_data.pkl', 'wb'))\n",
    "pickle.dump(collab_pivot, open('/kaggle/working/collab_pivot.pkl', 'wb'))\n",
    "pickle.dump(books_names, open('/kaggle/working/books_names.pkl', 'wb'))"
   ]
  },
  {
   "cell_type": "code",
   "execution_count": null,
   "metadata": {
    "execution": {
     "iopub.execute_input": "2024-05-10T23:10:42.901642Z",
     "iopub.status.busy": "2024-05-10T23:10:42.901293Z",
     "iopub.status.idle": "2024-05-10T23:10:42.908822Z",
     "shell.execute_reply": "2024-05-10T23:10:42.907924Z",
     "shell.execute_reply.started": "2024-05-10T23:10:42.901616Z"
    },
    "trusted": true
   },
   "outputs": [],
   "source": [
    "pickle.dump(books_names_list, open('/kaggle/working/books_names_list.pkl', 'wb'))"
   ]
  }
 ],
 "metadata": {
  "kaggle": {
   "accelerator": "gpu",
   "dataSources": [
    {
     "datasetId": 4968267,
     "sourceId": 8359978,
     "sourceType": "datasetVersion"
    }
   ],
   "dockerImageVersionId": 30699,
   "isGpuEnabled": true,
   "isInternetEnabled": true,
   "language": "python",
   "sourceType": "notebook"
  },
  "kernelspec": {
   "display_name": "Python 3",
   "language": "python",
   "name": "python3"
  },
  "language_info": {
   "codemirror_mode": {
    "name": "ipython",
    "version": 3
   },
   "file_extension": ".py",
   "mimetype": "text/x-python",
   "name": "python",
   "nbconvert_exporter": "python",
   "pygments_lexer": "ipython3",
   "version": "3.12.9"
  }
 },
 "nbformat": 4,
 "nbformat_minor": 4
}
